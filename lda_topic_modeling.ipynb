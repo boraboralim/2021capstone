{
 "cells": [
  {
   "cell_type": "code",
   "execution_count": 19,
   "id": "neutral-start",
   "metadata": {},
   "outputs": [
    {
     "name": "stderr",
     "output_type": "stream",
     "text": [
      "/Users/boralim/opt/anaconda3/envs/capstone/lib/python3.8/site-packages/ipykernel/ipkernel.py:283: DeprecationWarning: `should_run_async` will not call `transform_cell` automatically in the future. Please pass the result to `transformed_cell` argument and any exception that happen during thetransform in `preprocessing_exc_tuple` in IPython 7.17 and above.\n",
      "  and should_run_async(code)\n"
     ]
    }
   ],
   "source": [
    "import numpy as np\n",
    "import pandas as pd\n",
    "import re"
   ]
  },
  {
   "cell_type": "code",
   "execution_count": 2,
   "id": "unique-alexandria",
   "metadata": {},
   "outputs": [],
   "source": [
    "data = pd.read_csv('/Users/boralim/Desktop/capstone/crawling_naver_iphone.csv', encoding='utf-8')\n",
    "#column name: description\n",
    "description = list(data.description)"
   ]
  },
  {
   "cell_type": "code",
   "execution_count": 3,
   "id": "5868fe33",
   "metadata": {},
   "outputs": [],
   "source": [
    "#구두점 및 특수문자 제거\n",
    "from string import punctuation\n",
    "def strip_punctuation(s):\n",
    "    return ''.join(c for c in s if c not in punctuation)\n",
    "\n",
    "#한글, 영문, 숫자만 남기고 제거\n",
    "def clean_text(text): \n",
    "    text = text.replace(\".\", \" \").strip() \n",
    "    text = text.replace(\"·\", \" \").strip()\n",
    "    text = text.replace(\"b\", \" \").strip()\n",
    "    text = re.sub('[^ㄱ-ㅣ가-힣|0-9|a-zA-Z]+', repl=' ', string=text) \n",
    "    return text"
   ]
  },
  {
   "cell_type": "code",
   "execution_count": 4,
   "id": "b861ca6f",
   "metadata": {},
   "outputs": [],
   "source": [
    "clean_description=[]\n",
    "for sentance in description:\n",
    "    result = strip_punctuation(sentance)\n",
    "    result = clean_text(result)\n",
    "    clean_description.append(result)"
   ]
  },
  {
   "cell_type": "code",
   "execution_count": 5,
   "id": "3ea01b3e",
   "metadata": {},
   "outputs": [],
   "source": [
    "#의미 없는 단어 제거\n",
    "no_keyword=['아이폰12', '아이폰11', '아이폰 12', '아이폰 11', '12', '11', 'iPhone12']"
   ]
  },
  {
   "cell_type": "code",
   "execution_count": 7,
   "id": "sunset-relationship",
   "metadata": {},
   "outputs": [],
   "source": [
    "from konlpy.tag import Kkma\n",
    "kkma = Kkma() #형태소 분석기\n",
    "\n",
    "dataset=[]\n",
    "for i in range(len(clean_description)):\n",
    "    dataset.append(kkma.nouns(re.sub('[^가-힣|0-9|a-zA-Z]+', '', clean_description[i])))"
   ]
  },
  {
   "cell_type": "code",
   "execution_count": 8,
   "id": "ae898e47",
   "metadata": {},
   "outputs": [],
   "source": [
    "#불용어 제거\n",
    "stopwords_file = open(\"한국어불용어100.txt\", \"r\")\n",
    "stop_words = []\n",
    "for line in stopwords_file.readlines():\n",
    "    stop_words.append(line)\n",
    "stopwords_file.close()\n",
    "\n",
    "dataset_without_stopwords=[]\n",
    "for w in dataset:\n",
    "    if w not in stop_words:\n",
    "        dataset_without_stopwords.append(w)"
   ]
  },
  {
   "cell_type": "code",
   "execution_count": 35,
   "id": "608fb1e2",
   "metadata": {},
   "outputs": [],
   "source": [
    "import warnings\n",
    "warnings.filterwarnings(\"ignore\", category=DeprecationWarning)"
   ]
  },
  {
   "cell_type": "code",
   "execution_count": 34,
   "id": "2f329cf8",
   "metadata": {},
   "outputs": [],
   "source": [
    "from gensim import corpora, models\n",
    "from gensim.models import CoherenceModel\n",
    "import gensim\n",
    "import matplotlib.pyplot as plt"
   ]
  },
  {
   "cell_type": "code",
   "execution_count": 10,
   "id": "8502c723",
   "metadata": {},
   "outputs": [
    {
     "name": "stdout",
     "output_type": "stream",
     "text": [
      "Number of unique tokens: 232\n",
      "Number of documents: 1000\n"
     ]
    }
   ],
   "source": [
    "#데이터를 dictionary 형태로 명사 리스트 만들기\n",
    "dataset2=dataset_without_stopwords\n",
    "dataset2=[[y for y in x if not len(y)==1] for x in dataset2]\n",
    "\n",
    "#정수 인코딩과 빈도수 생성\n",
    "dictionary=corpora.Dictionary(dataset2)\n",
    "\n",
    "#출현빈도가 적거나 자주 등장하는 단어는 제거\n",
    "dictionary.filter_extremes(no_below=10, no_above=0.05)\n",
    "corpus=[dictionary.doc2bow(text) for text in dataset2]\n",
    "print('Number of unique tokens: %d' % len(dictionary)) \n",
    "print('Number of documents: %d' % len(corpus))"
   ]
  },
  {
   "cell_type": "code",
   "execution_count": 11,
   "id": "b95ec5da",
   "metadata": {},
   "outputs": [
    {
     "data": {
      "image/png": "[encoded data removed]",
      "text/plain": [
       "<Figure size 432x288 with 1 Axes>"
      ]
     },
     "metadata": {
      "needs_background": "light"
     },
     "output_type": "display_data"
    }
   ],
   "source": [
    "# 최적의 토픽 수 찾기 \n",
    "#CoherenceModel을 통한 토픽 최적화: 토픽이 얼마나 의미론적으로 일관성 있는지 판단. 높을수록 의미론적 일관성 높음\n",
    "def compute_coherence_values(dictionary, corpus, texts, limit, start=2, step=3):\n",
    "    coherence_values = [] \n",
    "    model_list = [] \n",
    "    for num_topics in range(start, limit, step): \n",
    "        model = models.ldamodel.LdaModel(corpus=corpus, id2word=dictionary, num_topics=num_topics) \n",
    "        model_list.append(model) \n",
    "        coherencemodel = CoherenceModel(model=model, texts=texts, dictionary=dictionary, coherence='c_v') \n",
    "        coherence_values.append(coherencemodel.get_coherence()) \n",
    "    return model_list, coherence_values\n",
    "\n",
    "def find_optimal_number_of_topics(dictionary, corpus, processed_data): \n",
    "    limit = 40; \n",
    "    start = 2; \n",
    "    step = 2; \n",
    "    \n",
    "    model_list, coherence_values = compute_coherence_values(dictionary=dictionary, corpus=corpus, texts=processed_data, start=start, limit=limit, step=step) \n",
    "    x = range(start, limit, step) \n",
    "    plt.plot(x, coherence_values) \n",
    "    plt.xlabel(\"Num Topics\") \n",
    "    plt.ylabel(\"Coherence score\") \n",
    "    plt.legend((\"coherence_values\"), loc='best') \n",
    "    plt.show()\n",
    "\n",
    "find_optimal_number_of_topics(dictionary, corpus, dataset2)"
   ]
  },
  {
   "cell_type": "code",
   "execution_count": 68,
   "id": "489b9cf0",
   "metadata": {},
   "outputs": [
    {
     "name": "stdout",
     "output_type": "stream",
     "text": [
      "(0, '0.023*\"느낌\" + 0.019*\"이유\" + 0.014*\"그래파이트\" + 0.014*\"화이트\" + 0.013*\"예약\" + 0.012*\"생각\" + 0.012*\"사전\" + 0.012*\"아이폰12시리즈\" + 0.012*\"제가\" + 0.012*\"블랙\"')\n",
      "(1, '0.024*\"기존\" + 0.016*\"하나\" + 0.015*\"부착\" + 0.014*\"용량\" + 0.014*\"정도\" + 0.013*\"범퍼\" + 0.013*\"부분\" + 0.013*\"데이터\" + 0.013*\"제공\" + 0.011*\"이상\"')\n",
      "(2, '0.020*\"크기\" + 0.020*\"10\" + 0.019*\"아이폰11\" + 0.019*\"처음\" + 0.016*\"비교\" + 0.016*\"사이즈\" + 0.015*\"차이\" + 0.013*\"럭시\" + 0.013*\"무게\" + 0.013*\"기본\"')\n",
      "(3, '0.018*\"때문\" + 0.017*\"화이트\" + 0.017*\"12시리즈\" + 0.017*\"제가\" + 0.017*\"시간\" + 0.015*\"정도\" + 0.015*\"휴대폰\" + 0.015*\"선택\" + 0.015*\"부분\" + 0.013*\"생각\"')\n",
      "(4, '0.028*\"강화\" + 0.024*\"강화유리\" + 0.018*\"하세\" + 0.017*\"주문\" + 0.017*\"안녕\" + 0.016*\"12프로\" + 0.016*\"안녕하세\" + 0.016*\"폰케이스\" + 0.016*\"기존\" + 0.016*\"그립\"')\n",
      "(5, '0.024*\"경우\" + 0.022*\"충전\" + 0.019*\"컬러\" + 0.018*\"세이프\" + 0.017*\"카드\" + 0.016*\"후기\" + 0.013*\"충전기\" + 0.013*\"탑재\" + 0.013*\"때문\" + 0.013*\"스펙\"')\n"
     ]
    }
   ],
   "source": [
    "ldamodel=gensim.models.ldamodel.LdaModel(corpus, num_topics=6, alpha=0.1, id2word=dictionary)\n",
    "\n",
    "topics = ldamodel.print_topics(num_words=10)\n",
    "for topic in topics:\n",
    "    print(topic)"
   ]
  },
  {
   "cell_type": "code",
   "execution_count": 69,
   "id": "271b74e5",
   "metadata": {},
   "outputs": [
    {
     "name": "stdout",
     "output_type": "stream",
     "text": [
      "\n",
      "Coherence Score (c_v):  0.38658410354535694\n",
      "\n",
      "Coherence Score (u_mass):  -11.056233055352171\n"
     ]
    }
   ],
   "source": [
    "# Compute Coherence Score using c_v 0.55정도가 준수\n",
    "coherence_model_lda = CoherenceModel(model=ldamodel, texts=dataset2, dictionary=dictionary, coherence='c_v') \n",
    "coherence_lda = coherence_model_lda.get_coherence() \n",
    "print('\\nCoherence Score (c_v): ', coherence_lda) \n",
    "\n",
    "# Compute Coherence Score using UMass 0에 가까울수록 완벽한 일관성\n",
    "coherence_model_lda = CoherenceModel(model=ldamodel, texts=dataset2, dictionary=dictionary, coherence=\"u_mass\")\n",
    "coherence_lda = coherence_model_lda.get_coherence() \n",
    "print('\\nCoherence Score (u_mass): ', coherence_lda)"
   ]
  },
  {
   "cell_type": "code",
   "execution_count": 70,
   "id": "2a13c0d0",
   "metadata": {},
   "outputs": [
    {
     "data": {
      "text/html": [
       "\n",
       "<link rel=\"stylesheet\" type=\"text/css\" href=\"https://cdn.jsdelivr.net/gh/bmabey/pyLDAvis@3.3.1/pyLDAvis/js/ldavis.v1.0.0.css\">\n",
       "\n",
       "\n",
       "<div id=\"ldavis_el550571401919317033606279951637\"></div>\n",
       "<script type=\"text/javascript\">\n",
       "\n",
       "var ldavis_el550571401919317033606279951637_data = {\"mdsDat\": {\"x\": [0.047688143111565905, 0.03107355117956764, 0.07611169877776094, -0.04920889193326613, -0.02856992299096649, -0.07709457814466202], \"y\": [-0.07362760696523236, 0.09373418328756251, -0.0013294041838480242, 0.019517048715007198, -0.026629170879388517, -0.011665049974100724], \"topics\": [1, 2, 3, 4, 5, 6], \"cluster\": [1, 1, 1, 1, 1, 1], \"Freq\": [20.11336740938979, 17.434573292046267, 16.55681600743138, 16.122879932176765, 15.485936777518871, 14.286426581436928]}, \"tinfo\": {\"Term\": [\"\\uae30\\ubcf8\", \"\\uc774\\uc720\", \"\\ud654\\uc774\\ud2b8\", \"\\ubd80\\ubd84\", \"\\uce74\\ub4dc\", \"\\uc2dc\\uac04\", \"\\uc8fc\\ubb38\", \"\\uae30\\uc874\", \"\\ub290\\ub08c\", \"\\uacbd\\uc6b0\", \"10\", \"\\ub370\\uc774\\ud130\", \"\\uc548\\ub155\\ud558\\uc138\", \"\\uc120\\ud0dd\", \"\\ud558\\uc138\", \"\\ucc98\\uc74c\", \"\\uc815\\ud488\", \"12\\uc2dc\\ub9ac\\uc988\", \"\\uac15\\ud654\\uc720\\ub9ac\", \"\\uc548\\ub155\", \"\\uac15\\ud654\", \"\\ubc94\\ud37c\", \"\\ubb34\\uac8c\", \"\\ud0d1\\uc7ac\", \"\\ucda9\\uc804\\uae30\", \"\\uc0ac\\uc774\\uc988\", \"12\\ubbf8\\ub2c8\", \"\\ud558\\ub098\", \"\\uc544\\uc774\\ud3f011\", \"\\uc544\\uc774\\ud3f012\\ucf00\\uc774\\uc2a4\", \"\\uc548\\ub155\\ud558\\uc138\", \"\\uc544\\uc774\\ud3f08\", \"\\uadf8\\ub9bd\", \"\\uac15\\ud654\\uc720\\ub9ac\", \"\\uc548\\ub155\", \"\\uac15\\ud654\", \"\\ud558\\uc138\", \"\\uc8fc\\ubb38\", \"\\uac1c\\uc778\\uc801\", \"\\ud558\\ub4dc\", \"\\ucf00\\uc774\", \"\\uc704\\uce58\", \"\\ub9cc\\ud07c\", \"\\ud3f0\\ucf00\\uc774\\uc2a4\", \"\\ud558\\ub2e4\", \"\\uc644\\ubcbd\", \"\\ud654\\uba74\", \"\\uc0bc\\uc131\", \"\\uc2ac\\ub9bc\", \"03\", \"\\ubc84\\ud2bc\", \"\\uc81c\\uc791\", \"\\uae30\\ub300\", \"\\uace8\\ub4dc\", \"\\ubcf4\\ub77c\\uc0c9\", \"\\uc720\\uc2ec\", \"12\\ud504\\ub85c\", \"\\uac00\\uc8fd\", \"\\uc2e4\\ub9ac\\ucf58\", \"\\ubc29\\ubc95\", \"\\ucf00\\uc774\\uc2a4\\uc544\\uc774\", \"\\ucf00\\uc774\\uc2a4\\uc544\\uc774\\ud3f012\", \"\\uc0ac\\uc804\", \"\\uae30\\uc874\", \"\\ube44\\uad50\", \"\\uc608\\uc57d\", \"\\uceec\\ub7ec\", \"\\ub54c\\ubb38\", \"\\uc815\\ud488\", \"\\uace0\\ubbfc\", \"\\uc138\\uc774\\ud504\", \"\\ub290\\ub08c\", \"\\ud06c\\uae30\", \"\\uc815\\ub3c4\", \"\\uc120\\ud0dd\", \"\\uc5d0\\uc5b4\", \"\\uce74\\ub4dc\", \"\\uacbd\\uc6b0\", \"\\ud0d1\\uc7ac\", \"\\ud50c\\uc0c9\\uc0c1\", \"\\ucd5c\\ub300\", \"\\uc774\\uc6a9\", \"\\ub9e5\\uc138\\uc774\\ud504\", \"\\ucda9\\uc804\\uae30\", \"\\ubd88\\ud3b8\", \"\\ud6c4\\uae30\", \"\\uc544\\uc774\\ud3f012\\ucf00\\uc774\\uc2a4\", \"\\ubb34\\uc120\", \"\\ucd9c\\uace0\", \"\\uc7a5\\uc810\", \"\\ubc30\\ud130\\ub9ac\", \"\\uc778\\uae30\", \"\\ucda9\\uc804\", \"\\uc9c0\\uc6d0\", \"\\ud310\\ub9e4\", \"\\uacf5\\uac1c\", \"\\uc6d0\\ub798\", \"\\ucd5c\\uc2e0\", \"\\ud558\\uba74\", \"\\uc791\\ub144\", \"\\uc77c\\ubc18\", \"12\\ubbf8\\ub2c8\", \"\\uc138\\uc774\\ud504\", \"2020\", \"\\uc9c0\\uae08\", \"\\ud50c\\ub7ec\\uc2a4\", \"\\uceec\\ub7ec\", \"\\uc2a4\\ud399\", \"\\uc778\\uce58\", \"\\ud6c4\\uba74\", \"\\ub54c\\ubb38\", \"\\ud3f0\\ucf00\\uc774\\uc2a4\", \"10\", \"\\ucf00\\uc774\\uc2a4\\uc544\\uc774\\ud3f012\", \"\\ub290\\ub08c\", \"\\uac00\\ub2a5\", \"\\uc624\\ub298\", \"61\", \"21\", \"\\uae30\\ubcf8\", \"\\uc544\\uc774\\ud3f011\", \"\\ubb34\\uac8c\", \"\\uc6b8\\ud2b8\\ub77c\", \"10\", \"\\ucc28\\uc774\", \"\\uc18c\\uac1c\", \"12\\ubbf8\\ub2c8\", \"\\ub9cc\\uc871\", \"\\uc0ac\\uc774\\uc988\", \"\\ucc98\\uc74c\", \"\\uc81c\\uc791\", \"\\uc0ac\\uc2e4\", \"\\ub2c8\\ud37c\", \"\\uae30\\uae30\", \"\\ubc88\\uc9f8\", \"\\ube44\\uad50\", \"\\ub300\\ube44\", \"54\", \"\\uc544\\uc774\\ud3f012\\ucf00\\uc774\\uc2a4\", \"\\uc815\\ud488\", \"\\ubc30\\uc1a1\", \"\\ucd94\\uac00\", \"\\uc778\\uce58\", \"\\ub7ed\\uc2dc\", \"\\ud654\\uba74\", \"\\uce5c\\uad6c\", \"\\ubaa8\\uc2b5\", \"\\ud06c\\uae30\", \"\\uc6a9\\ub7c9\", \"13\", \"\\uc8fc\\ubb38\", \"\\uc801\\uc6a9\", \"12\\uc2dc\\ub9ac\\uc988\", \"\\uc624\\ub298\", \"\\uc0dd\\uac01\", \"\\uae30\\uc874\", \"\\uceec\\ub7ec\", \"\\uc2a4\\ud399\", \"\\ub9c8\\uc74c\", \"\\ub290\\ub08c\", \"\\uc774\\uc720\", \"\\ubaa8\\ub4dc\", \"\\uc57c\\uac04\", \"\\ud14c\\ub450\\ub9ac\", \"\\uadf8\\ub798\\ud30c\\uc774\\ud2b8\", \"\\ub4b7\\uba74\", \"\\ub3d9\\uc548\", \"\\uc774\\ubc88\\uc544\\uc774\\ud3f012\", \"\\uc9c0\\uae08\", \"\\ud328\\ub4dc\", \"\\ubcc0\\uacbd\", \"\\ube14\\ub799\", \"\\ucd5c\\uadfc\", \"\\ub290\\ub08c\", \"\\uae09\\uc81c\", \"\\uc544\\uc774\\ud3f06\", \"128\", \"\\uc790\\uccb4\", \"\\ub098\\uc758\", \"14\", \"256\", \"\\ubc88\\uc9f8\", \"\\ucd94\\ucc9c\\uc544\\uc774\\ud3f012\", \"\\ub300\\ube44\", \"\\ub9ac\\ubdf0\", \"\\uce21\\uba74\", \"\\uc608\\uc804\", \"\\uae30\\uac00\", \"\\ud654\\uc774\\ud2b8\", \"\\ud560\\uc778\", \"\\uc608\\uc57d\", \"\\uc544\\uc774\\ud3f012\\uc2dc\\ub9ac\\uc988\", \"\\ub7ed\\uc2dc\", \"\\uc0ac\\uc804\", \"\\uc774\\uc0c1\", \"\\uc81c\\uac00\", \"\\ud558\\ub098\", \"\\uc120\\ud0dd\", \"\\ud6c4\\uba74\", \"\\uc0dd\\uac01\", \"\\uc815\\ud488\", \"\\ucc98\\uc74c\", \"\\uac00\\uc9c0\", \"\\uc2e4\\ub9ac\\ucf58\", \"\\uae30\\uc885\", \"\\ub370\\uc774\\ud130\", \"\\uc81c\\uacf5\", \"\\ubd80\\ucc29\", \"\\uc624\\ub79c\\ub9cc\", \"\\uc561\\uc815\\ubcf4\\ud638\", \"\\ubc94\\ud37c\", \"\\ucd94\\ucc9c\\uc544\\uc774\", \"\\uc8fc\\ubcc0\", \"\\uce5c\\uad6c\", \"\\ud3ec\\uc2a4\\ud305\", \"1212\", \"\\uae30\\uc874\", \"\\ud544\\ub984\\uc544\\uc774\\ud3f012\", \"\\ud2b8\\ub77c\", \"\\ud3ec\\ud568\", \"\\uace0\\uac00\", \"\\ubc15\\uc2a4\", \"\\uc9c0\\ubb38\", \"\\ud558\\ub098\", \"\\ud3ec\\uc2a4\", \"\\ub098\\uc758\", \"\\ub85c\\uadf8\", \"\\uc6a9\\ub7c9\", \"\\ucd2c\\uc601\", \"\\ud544\\uc694\", \"\\ubc29\\ubc95\", \"\\ubd80\\ubd84\", \"30\", \"\\uac00\\ub4dc\", \"\\ucc38\\uace0\", \"\\uc774\\uc0c1\", \"\\uc815\\ub3c4\", \"\\ub9c8\\uc74c\", \"\\ud50c\\ub7ec\\uc2a4\", \"\\uc624\\ub298\", \"\\ud654\\uc774\\ud2b8\", \"\\uc778\\uce58\", \"\\uc2a4\\ud399\", \"\\uc2dc\\uac04\", \"\\uac15\\ud654\", \"\\uc0dd\\uac01\", \"\\ucc28\\uc774\", \"\\ucda9\\uc804\\uae30\", \"\\ud06c\\uae30\", \"\\uc548\\ub155\", \"\\uace0\\ubbfc\", \"\\ud558\\uc138\", \"\\ube14\\ub8e8\", \"\\uac00\\ub2a5\", \"\\uc544\\uc774\\ud3f012\\uc2dc\\ub9ac\\uc988\", \"\\ud6c4\\uae30\", \"\\ub9dd\\uc6d0\", \"\\uc2dc\\uac04\", \"\\ud604\\uc7ac\", \"\\uc0c1\\ud0dc\", \"\\uc774\\uac83\", \"\\ub80c\\uc988\", \"\\ucc38\\uace0\", \"\\uae30\\ubcf8\", \"\\uc694\\uc998\", \"\\ud3ec\\ud568\", \"\\uc0ac\\uacfc\", \"\\uc544\\uc774\\ud3f013\", \"\\uc544\\ub798\", \"\\uc2a4\\ud1a0\\uc5b4\", \"\\ud654\\uc774\\ud2b8\", \"\\uc804\\uba74\", \"\\ubd80\\ubd84\", \"\\uac00\\ub4dc\", \"\\uc81c\\uac00\", \"12\\uc2dc\\ub9ac\\uc988\", \"\\ud734\\ub300\\ud3f0\", \"\\uc790\\uae09\", \"\\uc624\\ub79c\\ub9cc\", \"\\uc8fc\\ubcc0\", \"\\ud2b8\\ub77c\", \"14\", \"\\uc120\\ud0dd\", \"\\ub2f9\\uc2dc\", \"\\uc5bc\\ub9c8\", \"\\uc774\\uc804\", \"13\", \"\\ub54c\\ubb38\", \"\\uc815\\ub3c4\", \"\\ub9ac\\ubdf0\", \"\\ube14\\ub8e8\", \"\\uc0dd\\uac01\", \"12\\ud504\\ub85c\", \"\\uc2ac\\ub9bc\", \"\\ucda9\\uc804\", \"\\ud06c\\uae30\", \"\\uc2a4\\ud399\", \"\\uc0ac\\uc804\", \"\\ucf00\\uc774\\uc2a4\\uc544\\uc774\\ud3f012\", \"\\uac00\\ub2a5\", \"\\uc608\\uc57d\"], \"Freq\": [19.0, 19.0, 31.0, 27.0, 22.0, 22.0, 30.0, 46.0, 45.0, 36.0, 31.0, 11.0, 22.0, 33.0, 31.0, 32.0, 24.0, 33.0, 39.0, 29.0, 47.0, 19.0, 20.0, 19.0, 24.0, 27.0, 20.0, 33.0, 27.0, 22.0, 14.538354822124937, 10.703877449532364, 14.538141692798469, 22.20647396503012, 15.496794020247137, 25.082642385200003, 16.455446347695805, 15.496859988848186, 5.911235325112982, 5.911051374206209, 7.828199565113876, 5.392021415914222, 6.86975402385696, 14.538317609067935, 7.828053250139753, 4.952595261058098, 9.745419644881663, 4.952522526446685, 13.579565482966396, 5.911232787859095, 4.952645160384534, 5.911066174853881, 3.994068104801166, 6.869749795100483, 4.410094858564452, 3.994055418531733, 14.538383577668984, 5.911228981978266, 8.786927164427844, 5.911168510760637, 11.662263365322946, 12.621130513600674, 11.156733289209868, 14.538268555492795, 10.795186450898067, 10.160475476157705, 12.621073848263874, 11.662469728639051, 7.82832135330043, 8.78679438147445, 10.32160040121635, 10.703949338392482, 10.703929886112684, 9.745579491876514, 8.78651190054175, 9.16171733740587, 13.159563961497543, 19.15640171032002, 10.161291709107854, 7.162891162449308, 5.16381133139547, 8.162288121505219, 7.501251534682898, 10.54792005083464, 5.1638593501075265, 12.811316133240949, 9.161763523342657, 8.16233284122179, 4.164352424535456, 4.164344360324271, 8.16234896964416, 8.162196482741752, 17.501138790031636, 6.163285267012693, 8.162266861312094, 7.162689557169681, 7.162831780530581, 4.164452860620215, 4.16442206999569, 7.162840577851874, 8.155541309183745, 7.16280318923638, 14.425464772467404, 4.1644184044451515, 6.163349047592066, 8.162340172322867, 15.158331487645487, 10.16107910717661, 9.161814841050198, 7.162611847498262, 10.161277046905697, 8.162338706102652, 8.162326976340928, 8.162301317487158, 8.16229398638608, 7.403716366619663, 7.162836912301335, 6.06820717327514, 9.020097067788202, 10.004239985843952, 13.940249127575242, 10.004260871877062, 5.084109856391675, 14.924057869101262, 10.987949866813258, 6.068216920090591, 9.020246054824375, 8.036098263360897, 11.972257088329464, 13.940246342770829, 6.068143122773608, 8.036009845820738, 6.06817445182327, 6.0679683762966015, 4.100061969786566, 11.972300252797886, 4.1000497862672525, 4.100128805092512, 8.036204085928645, 8.036252820005899, 4.100009754703795, 4.100024723027523, 10.004068720372464, 10.004290112323414, 7.052240787757626, 3.1160830070907144, 5.084092451364085, 14.924476982165636, 9.02014301706104, 7.052181610663818, 8.036188073303263, 6.06820717327514, 8.03632244011626, 8.036284149055561, 7.052213635914584, 7.052302749655847, 7.052188572674854, 6.0682823629943305, 6.068255907352393, 6.06821483148728, 14.156812601407603, 6.689465876577052, 5.756008045127533, 5.755940249684272, 10.423130425584704, 4.822538349475444, 4.822705804220299, 6.689339099098153, 7.62287150553526, 6.689366895229891, 6.689413674085741, 8.55632459130375, 8.556256795860488, 16.956933896707227, 4.8226403816175525, 3.889215430958015, 6.306347725117583, 6.6894089284047125, 3.889312717419095, 5.284808019919692, 6.689485537255598, 3.8892005159604977, 3.889075433367681, 3.889196109256686, 5.756070416935334, 6.689389267726167, 5.755806014706614, 3.8892842433329253, 9.91328089612803, 5.756134822606432, 9.69033761482656, 8.556452724691514, 8.55620527132361, 8.73950042149701, 7.62296235142923, 8.556372726068465, 8.556315777896126, 8.55622086427556, 6.689434690673152, 8.771077505104822, 6.689581806785029, 7.622971842791286, 6.689581128830596, 6.689399437042656, 6.689460452941591, 8.812230618817384, 8.812190246186033, 10.545724616997497, 5.345071689945383, 7.078612246885847, 8.812287921907048, 5.345170668009346, 4.478376784573203, 4.478184688988539, 5.345104574104792, 4.47831752796912, 16.613301336194706, 3.611546761120283, 3.611555877520911, 3.6116203434967815, 3.6115763894223245, 4.478345528342477, 4.478363761143734, 11.412254124815426, 6.211953807116178, 3.611538621476865, 3.611581924379849, 9.67909482877266, 5.345087969232219, 4.478174921416437, 5.345115644019841, 8.812260572705163, 4.4784005523319825, 3.61156792419317, 3.611573784736431, 7.94546864278344, 9.678805057466981, 7.078540618023768, 6.2118652477957905, 7.94532473388781, 7.078754853438529, 7.07877569092568, 7.078627875001209, 5.344977921253209, 7.078625921486789, 6.212037157064778, 5.345085690132063, 5.345163179537401, 6.212098367183281, 5.345211366226436, 5.3452185291126435, 5.345207459197595, 5.345206808026122, 5.345201273068597, 5.345183365853078, 5.345161877194455, 5.973190464971633, 10.81705573150195, 6.942193238581565, 5.9736836667746545, 5.973650025725971, 6.942218469368077, 5.004907369510326, 7.9110770670550785, 7.911041623807359, 4.03623169502554, 4.036254522880005, 4.03618243491854, 5.9734752124194195, 4.036258127278078, 11.144061142297955, 5.973705893896106, 9.653257469155218, 4.036172222457332, 10.81706654469617, 10.832248269380628, 9.848350921466073, 5.004992072865046, 3.067498049805078, 3.0674208556130096, 3.067550613943646, 4.525364432988105, 9.848318481883414, 3.0673334489597335, 5.973573732633421, 5.004958131449857, 6.942319392514127, 11.620867739949581, 9.848452445345137, 5.004954527051783, 7.911168378472934, 8.65699883804851, 7.911131733759189, 6.942342821101604, 7.5780420990155655, 6.942444945713678, 5.973484223414602, 5.7940566865960434, 5.973683066041643, 5.740110261366975, 5.77476354517605], \"Total\": [19.0, 19.0, 31.0, 27.0, 22.0, 22.0, 30.0, 46.0, 45.0, 36.0, 31.0, 11.0, 22.0, 33.0, 31.0, 32.0, 24.0, 33.0, 39.0, 29.0, 47.0, 19.0, 20.0, 19.0, 24.0, 27.0, 20.0, 33.0, 27.0, 22.0, 22.550814975158445, 17.029009919729983, 25.503522030379514, 39.036031438220675, 29.245666117159, 47.39829209593538, 31.192998354725635, 30.035224828531756, 11.585930637896666, 11.619232034256344, 15.462829359140443, 11.222201909095952, 14.546037727017984, 31.51123318112596, 17.262920742770884, 11.532363359032157, 22.99400097523101, 11.695231915626254, 32.43790088267925, 14.326593738791635, 12.429907142671679, 15.27454096534665, 10.3547399882296, 17.830179392143613, 11.555566470677206, 10.486862602568596, 39.85172969034627, 16.320828850556023, 24.882927316477794, 16.79370356775767, 34.31470218718812, 38.54194841327716, 33.530107608876946, 46.322701850804776, 32.77849150600148, 34.50573232617334, 47.1653686717658, 45.33781950407419, 24.026382161041685, 29.560879819623267, 41.47548939710541, 45.103787224800186, 48.83572974710144, 39.540493826109646, 33.53075986485757, 14.77558284039942, 22.516328151438103, 36.97195691079793, 19.6557047275295, 14.72969584019731, 10.701153965466194, 17.320315179280186, 16.489940992905687, 24.696643149914898, 12.602978457283017, 31.477559344429103, 22.530662969806716, 20.33847722465524, 10.420930301793385, 10.54407548045531, 21.053045555010392, 21.097782465183826, 45.350223066572624, 16.096001140834296, 21.399674122056602, 19.272830372887935, 19.364736638936968, 11.334489535225629, 11.344246233743764, 20.18665593265412, 23.205213023595988, 20.4967575823456, 41.47548939710541, 12.271787731152914, 18.31145677028098, 24.596005754704855, 47.1653686717658, 34.339607872919444, 32.47821345753844, 23.782012867734093, 45.33781950407419, 31.51123318112596, 31.90260867593607, 38.54194841327716, 45.103787224800186, 32.415330285990194, 36.94119494367902, 10.772223142017287, 16.259161267378158, 19.408754236392557, 27.13466838902887, 20.98964362497263, 10.678407896113788, 31.90260867593607, 23.72843199898609, 13.541071968322894, 20.4967575823456, 18.274093028374512, 27.91423917701821, 32.821640266072656, 15.27454096534665, 21.154341922785996, 16.015197089527785, 16.034286383695957, 11.222051487184531, 32.77849150600148, 11.405651321452993, 11.42022810550155, 22.530662969806716, 24.026382161041685, 12.291377087808796, 13.281932148179404, 32.47821345753844, 32.49078665403593, 22.99400097523101, 10.165176052721781, 16.605700651092057, 48.83572974710144, 30.0922695805726, 24.69754975771749, 30.035224828531756, 20.888264363788153, 33.544500018634196, 36.94119494367902, 39.7276030154399, 46.322701850804776, 47.1653686717658, 34.339607872919444, 27.412947694536495, 45.103787224800186, 19.598245773178277, 11.274080151307686, 11.207443724634082, 11.273787538250726, 20.6781451389431, 10.289420208741475, 11.263338101869182, 15.857947544853161, 18.31145677028098, 16.7300195192956, 16.872633837253282, 21.88950664624017, 21.962020993459, 45.103787224800186, 13.057909253967953, 10.538979102349714, 17.947653427238304, 19.06470529752826, 11.11019646713859, 15.146171921654972, 19.20804072160042, 11.222051487184531, 11.354877106193838, 11.405651321452993, 17.963182683578083, 21.12519281802998, 18.213517767557384, 12.31875276992549, 31.818266159199574, 19.213226951450114, 34.50573232617334, 30.298891410838685, 32.49078665403593, 33.530107608876946, 27.963354774199164, 33.102292147151886, 33.332480156027955, 33.53075986485757, 23.782012867734093, 39.7276030154399, 24.026382161041685, 32.821640266072656, 24.663878089225065, 24.882927316477794, 30.333710261406356, 11.577926141875912, 15.391847106138538, 19.048451710071227, 10.058195004722771, 13.673605826455619, 19.317599400295617, 11.940118942995879, 10.083867084189539, 10.165176052721781, 12.873535797831476, 12.148750329500867, 46.322701850804776, 10.12046315266547, 10.176084731417369, 10.22676681403377, 10.272487350497054, 12.960793452245095, 13.005633614057711, 33.332480156027955, 18.56629082808336, 11.11019646713859, 11.201389872901782, 30.0922695805726, 16.677914839476337, 13.974776873944874, 16.79370356775767, 27.89857420839888, 14.86252303795832, 12.128430078492414, 12.179449835648537, 27.963354774199164, 39.540493826109646, 27.412947694536495, 24.596005754704855, 36.94119494367902, 31.818266159199574, 32.47821345753844, 34.339607872919444, 22.48433541646947, 47.39829209593538, 39.7276030154399, 23.72843199898609, 24.696643149914898, 48.83572974710144, 29.245666117159, 29.560879819623267, 31.192998354725635, 32.32107461296058, 32.415330285990194, 30.298891410838685, 31.477559344429103, 10.4147151274536, 22.48433541646947, 14.575810706983123, 12.557088959467697, 13.306884845758656, 16.41147916296893, 12.179449835648537, 19.408754236392557, 19.98620630439669, 10.22676681403377, 10.36940266489911, 10.461834810895564, 16.23860138805437, 11.384602016667078, 31.818266159199574, 17.166035861989805, 27.89857420839888, 12.128430078492414, 33.102292147151886, 33.544500018634196, 31.423234011936742, 16.25365387202283, 10.058195004722771, 10.083867084189539, 10.176084731417369, 15.146171921654972, 33.53075986485757, 10.634603053133437, 20.924154703571524, 17.789306225262557, 24.69754975771749, 45.33781950407419, 39.540493826109646, 17.963182683578083, 32.32107461296058, 39.7276030154399, 39.85172969034627, 32.43790088267925, 45.350223066572624, 48.83572974710144, 34.339607872919444, 33.530107608876946, 38.54194841327716, 32.415330285990194, 34.50573232617334], \"Category\": [\"Default\", \"Default\", \"Default\", \"Default\", \"Default\", \"Default\", \"Default\", \"Default\", \"Default\", \"Default\", \"Default\", \"Default\", \"Default\", \"Default\", \"Default\", \"Default\", \"Default\", \"Default\", \"Default\", \"Default\", \"Default\", \"Default\", \"Default\", \"Default\", \"Default\", \"Default\", \"Default\", \"Default\", \"Default\", \"Default\", \"Topic1\", \"Topic1\", \"Topic1\", \"Topic1\", \"Topic1\", \"Topic1\", \"Topic1\", \"Topic1\", \"Topic1\", \"Topic1\", \"Topic1\", \"Topic1\", \"Topic1\", \"Topic1\", \"Topic1\", \"Topic1\", \"Topic1\", \"Topic1\", \"Topic1\", \"Topic1\", \"Topic1\", \"Topic1\", \"Topic1\", \"Topic1\", \"Topic1\", \"Topic1\", \"Topic1\", \"Topic1\", \"Topic1\", \"Topic1\", \"Topic1\", \"Topic1\", \"Topic1\", \"Topic1\", \"Topic1\", \"Topic1\", \"Topic1\", \"Topic1\", \"Topic1\", \"Topic1\", \"Topic1\", \"Topic1\", \"Topic1\", \"Topic1\", \"Topic1\", \"Topic2\", \"Topic2\", \"Topic2\", \"Topic2\", \"Topic2\", \"Topic2\", \"Topic2\", \"Topic2\", \"Topic2\", \"Topic2\", \"Topic2\", \"Topic2\", \"Topic2\", \"Topic2\", \"Topic2\", \"Topic2\", \"Topic2\", \"Topic2\", \"Topic2\", \"Topic2\", \"Topic2\", \"Topic2\", \"Topic2\", \"Topic2\", \"Topic2\", \"Topic2\", \"Topic2\", \"Topic2\", \"Topic2\", \"Topic2\", \"Topic2\", \"Topic2\", \"Topic2\", \"Topic2\", \"Topic2\", \"Topic2\", \"Topic2\", \"Topic2\", \"Topic2\", \"Topic2\", \"Topic2\", \"Topic2\", \"Topic3\", \"Topic3\", \"Topic3\", \"Topic3\", \"Topic3\", \"Topic3\", \"Topic3\", \"Topic3\", \"Topic3\", \"Topic3\", \"Topic3\", \"Topic3\", \"Topic3\", \"Topic3\", \"Topic3\", \"Topic3\", \"Topic3\", \"Topic3\", \"Topic3\", \"Topic3\", \"Topic3\", \"Topic3\", \"Topic3\", \"Topic3\", \"Topic3\", \"Topic3\", \"Topic3\", \"Topic3\", \"Topic3\", \"Topic3\", \"Topic3\", \"Topic3\", \"Topic3\", \"Topic3\", \"Topic3\", \"Topic3\", \"Topic3\", \"Topic3\", \"Topic3\", \"Topic3\", \"Topic3\", \"Topic3\", \"Topic3\", \"Topic4\", \"Topic4\", \"Topic4\", \"Topic4\", \"Topic4\", \"Topic4\", \"Topic4\", \"Topic4\", \"Topic4\", \"Topic4\", \"Topic4\", \"Topic4\", \"Topic4\", \"Topic4\", \"Topic4\", \"Topic4\", \"Topic4\", \"Topic4\", \"Topic4\", \"Topic4\", \"Topic4\", \"Topic4\", \"Topic4\", \"Topic4\", \"Topic4\", \"Topic4\", \"Topic4\", \"Topic4\", \"Topic4\", \"Topic4\", \"Topic4\", \"Topic4\", \"Topic4\", \"Topic4\", \"Topic4\", \"Topic4\", \"Topic4\", \"Topic4\", \"Topic4\", \"Topic4\", \"Topic4\", \"Topic4\", \"Topic4\", \"Topic4\", \"Topic4\", \"Topic5\", \"Topic5\", \"Topic5\", \"Topic5\", \"Topic5\", \"Topic5\", \"Topic5\", \"Topic5\", \"Topic5\", \"Topic5\", \"Topic5\", \"Topic5\", \"Topic5\", \"Topic5\", \"Topic5\", \"Topic5\", \"Topic5\", \"Topic5\", \"Topic5\", \"Topic5\", \"Topic5\", \"Topic5\", \"Topic5\", \"Topic5\", \"Topic5\", \"Topic5\", \"Topic5\", \"Topic5\", \"Topic5\", \"Topic5\", \"Topic5\", \"Topic5\", \"Topic5\", \"Topic5\", \"Topic5\", \"Topic5\", \"Topic5\", \"Topic5\", \"Topic5\", \"Topic5\", \"Topic5\", \"Topic5\", \"Topic5\", \"Topic5\", \"Topic5\", \"Topic5\", \"Topic5\", \"Topic5\", \"Topic5\", \"Topic5\", \"Topic5\", \"Topic6\", \"Topic6\", \"Topic6\", \"Topic6\", \"Topic6\", \"Topic6\", \"Topic6\", \"Topic6\", \"Topic6\", \"Topic6\", \"Topic6\", \"Topic6\", \"Topic6\", \"Topic6\", \"Topic6\", \"Topic6\", \"Topic6\", \"Topic6\", \"Topic6\", \"Topic6\", \"Topic6\", \"Topic6\", \"Topic6\", \"Topic6\", \"Topic6\", \"Topic6\", \"Topic6\", \"Topic6\", \"Topic6\", \"Topic6\", \"Topic6\", \"Topic6\", \"Topic6\", \"Topic6\", \"Topic6\", \"Topic6\", \"Topic6\", \"Topic6\", \"Topic6\", \"Topic6\", \"Topic6\", \"Topic6\", \"Topic6\", \"Topic6\", \"Topic6\"], \"logprob\": [30.0, 29.0, 28.0, 27.0, 26.0, 25.0, 24.0, 23.0, 22.0, 21.0, 20.0, 19.0, 18.0, 17.0, 16.0, 15.0, 14.0, 13.0, 12.0, 11.0, 10.0, 9.0, 8.0, 7.0, 6.0, 5.0, 4.0, 3.0, 2.0, 1.0, -4.1346, -4.4408, -4.1346, -3.711, -4.0707, -3.5892, -4.0107, -4.0707, -5.0345, -5.0346, -4.7536, -5.1265, -4.8842, -4.1346, -4.7537, -5.2115, -4.5346, -5.2115, -4.2028, -5.0345, -5.2115, -5.0345, -5.4266, -4.8842, -5.3275, -5.4266, -4.1346, -5.0345, -4.6381, -5.0345, -4.355, -4.276, -4.3993, -4.1346, -4.4323, -4.4929, -4.276, -4.355, -4.7536, -4.6381, -4.4771, -4.4408, -4.4408, -4.5346, -4.6382, -4.4534, -4.0913, -3.7158, -4.3499, -4.6995, -5.0268, -4.5689, -4.6534, -4.3125, -5.0268, -4.1181, -4.4534, -4.5689, -5.2419, -5.2419, -4.5689, -4.5689, -3.8062, -4.8498, -4.5689, -4.6996, -4.6995, -5.2419, -5.2419, -4.6995, -4.5697, -4.6995, -3.9995, -5.2419, -4.8498, -4.5689, -3.9499, -4.3499, -4.4534, -4.6996, -4.3499, -4.5689, -4.5689, -4.5689, -4.5689, -4.6665, -4.6995, -4.8137, -4.4173, -4.3138, -3.982, -4.3138, -4.9907, -3.9138, -4.22, -4.8137, -4.4173, -4.5328, -4.1342, -3.982, -4.8137, -4.5329, -4.8137, -4.8138, -5.2058, -4.1342, -5.2058, -5.2058, -4.5328, -4.5328, -5.2058, -5.2058, -4.3138, -4.3138, -4.6634, -5.4802, -4.9907, -3.9138, -4.4173, -4.6635, -4.5328, -4.8137, -4.5328, -4.5328, -4.6634, -4.6634, -4.6635, -4.8137, -4.8137, -4.8137, -3.94, -4.6897, -4.84, -4.84, -4.2462, -5.0169, -5.0169, -4.6897, -4.5591, -4.6897, -4.6897, -4.4436, -4.4436, -3.7596, -5.0169, -5.232, -4.7487, -4.6897, -5.232, -4.9254, -4.6897, -5.232, -5.2321, -5.232, -4.84, -4.6897, -4.84, -5.232, -4.2964, -4.84, -4.3191, -4.4435, -4.4436, -4.4224, -4.5591, -4.4436, -4.4436, -4.4436, -4.6897, -4.4188, -4.6897, -4.5591, -4.6897, -4.6897, -4.6897, -4.3738, -4.3738, -4.1942, -4.8737, -4.5928, -4.3738, -4.8737, -5.0507, -5.0507, -4.8737, -5.0507, -3.7397, -5.2658, -5.2658, -5.2658, -5.2658, -5.0507, -5.0507, -4.1152, -4.7234, -5.2658, -5.2658, -4.28, -4.8737, -5.0507, -4.8737, -4.3738, -5.0507, -5.2658, -5.2658, -4.4773, -4.28, -4.5929, -4.7235, -4.4773, -4.5928, -4.5928, -4.5928, -4.8738, -4.5928, -4.7234, -4.8737, -4.8737, -4.7234, -4.8737, -4.8737, -4.8737, -4.8737, -4.8737, -4.8737, -4.8737, -4.682, -4.0882, -4.5317, -4.6819, -4.6819, -4.5317, -4.8589, -4.401, -4.401, -5.074, -5.074, -5.074, -4.682, -5.074, -4.0584, -4.6819, -4.202, -5.074, -4.0882, -4.0868, -4.182, -4.8589, -5.3484, -5.3485, -5.3484, -4.9596, -4.182, -5.3485, -4.682, -4.8589, -4.5317, -4.0165, -4.182, -4.8589, -4.401, -4.3109, -4.401, -4.5317, -4.444, -4.5316, -4.682, -4.7125, -4.6819, -4.7218, -4.7158], \"loglift\": [30.0, 29.0, 28.0, 27.0, 26.0, 25.0, 24.0, 23.0, 22.0, 21.0, 20.0, 19.0, 18.0, 17.0, 16.0, 15.0, 14.0, 13.0, 12.0, 11.0, 10.0, 9.0, 8.0, 7.0, 6.0, 5.0, 4.0, 3.0, 2.0, 1.0, 1.1648, 1.1395, 1.0417, 1.0397, 0.9687, 0.9674, 0.9642, 0.9421, 0.9308, 0.9279, 0.9231, 0.8708, 0.8536, 0.8302, 0.8129, 0.7585, 0.7453, 0.7445, 0.733, 0.7185, 0.6836, 0.6544, 0.6512, 0.65, 0.6405, 0.6385, 0.5954, 0.5882, 0.5629, 0.5596, 0.5246, 0.4874, 0.5034, 0.4449, 0.4931, 0.3812, 0.2855, 0.246, 0.4824, 0.3906, 0.2129, 0.1654, 0.0859, 0.2033, 0.2645, 1.2688, 1.2096, 1.0892, 1.0869, 1.0258, 1.018, 0.9944, 0.959, 0.896, 0.8545, 0.8478, 0.8469, 0.8337, 0.8295, 0.8177, 0.7992, 0.7971, 0.7946, 0.7868, 0.7829, 0.7569, 0.7522, 0.7454, 0.7446, 0.7106, 0.701, 0.6953, 0.6906, 0.666, 0.6578, 0.6437, 0.6116, 0.529, 0.4812, 0.5467, 0.2512, 0.3959, 0.3836, 0.1945, 0.0373, 0.2701, 0.1063, 1.2245, 1.2092, 1.1357, 1.1323, 1.0574, 1.0563, 1.0387, 1.0285, 0.9957, 0.9776, 0.9768, 0.9518, 0.9421, 0.8752, 0.8305, 0.8279, 0.8267, 0.7915, 0.7912, 0.7753, 0.774, 0.7675, 0.7032, 0.7005, 0.623, 0.6208, 0.6204, 0.6165, 0.616, 0.6147, 0.6129, 0.5936, 0.545, 0.48, 0.5622, 0.3695, 0.273, 0.0697, -0.0839, -0.1019, 0.0651, 0.2904, -0.2075, 1.4997, 1.303, 1.1586, 1.1527, 1.1399, 1.0671, 0.9767, 0.9618, 0.9486, 0.9082, 0.8998, 0.8856, 0.8823, 0.8466, 0.8289, 0.8281, 0.779, 0.7776, 0.7753, 0.772, 0.7701, 0.7653, 0.7535, 0.749, 0.6869, 0.675, 0.673, 0.672, 0.6588, 0.6196, 0.5549, 0.5605, 0.4906, 0.4803, 0.5252, 0.472, 0.4651, 0.4591, 0.5565, 0.3143, 0.5463, 0.365, 0.5201, 0.5113, 0.3132, 1.5923, 1.3075, 1.274, 1.233, 1.2068, 1.0804, 1.0615, 1.0536, 1.0455, 0.9862, 0.8673, 0.8398, 0.8348, 0.8293, 0.8244, 0.8199, 0.8026, 0.7991, 0.7934, 0.7704, 0.7415, 0.7333, 0.7309, 0.7273, 0.7272, 0.7204, 0.7128, 0.6657, 0.6538, 0.6496, 0.6069, 0.4579, 0.5113, 0.4891, 0.3285, 0.3623, 0.3418, 0.286, 0.4286, -0.0363, 0.0097, 0.3747, 0.3348, -0.1967, 0.1657, 0.155, 0.1012, 0.0657, 0.0628, 0.1303, 0.0922, 1.3899, 1.2142, 1.2041, 1.2029, 1.1449, 1.0855, 1.0565, 1.0484, 1.0191, 1.0162, 1.0023, 0.9934, 0.9458, 0.9089, 0.8967, 0.8903, 0.8846, 0.8456, 0.8274, 0.8155, 0.7856, 0.768, 0.7583, 0.7558, 0.7467, 0.7378, 0.7207, 0.7026, 0.6923, 0.6777, 0.6768, 0.5845, 0.5558, 0.668, 0.5384, 0.4222, 0.329, 0.4042, 0.1567, -0.0049, 0.1969, 0.1902, 0.0815, 0.2147, 0.1582]}, \"token.table\": {\"Topic\": [1, 2, 3, 4, 5, 6, 1, 2, 3, 4, 5, 6, 1, 2, 3, 5, 6, 1, 2, 3, 4, 5, 6, 1, 2, 3, 4, 5, 2, 3, 4, 5, 6, 1, 2, 3, 4, 5, 6, 1, 3, 4, 5, 6, 2, 3, 4, 5, 6, 2, 3, 4, 5, 6, 1, 3, 4, 5, 2, 3, 4, 5, 6, 1, 2, 3, 4, 5, 2, 3, 4, 5, 1, 2, 3, 1, 2, 3, 4, 5, 6, 1, 3, 4, 5, 6, 1, 2, 3, 4, 5, 1, 2, 3, 4, 5, 6, 1, 2, 3, 4, 5, 6, 1, 2, 3, 4, 5, 6, 1, 2, 3, 6, 1, 2, 3, 4, 5, 6, 1, 2, 5, 6, 1, 2, 3, 4, 5, 6, 1, 2, 3, 4, 5, 2, 3, 4, 5, 6, 1, 2, 3, 4, 5, 1, 3, 4, 5, 6, 1, 3, 4, 5, 6, 1, 2, 3, 4, 5, 1, 3, 4, 5, 6, 1, 3, 4, 5, 3, 5, 6, 1, 2, 3, 4, 5, 6, 1, 2, 3, 4, 5, 6, 1, 2, 4, 5, 1, 2, 3, 4, 6, 1, 2, 3, 5, 6, 1, 2, 3, 4, 6, 1, 3, 4, 5, 1, 2, 5, 1, 2, 3, 4, 5, 6, 2, 4, 5, 6, 1, 2, 3, 4, 5, 6, 1, 2, 3, 4, 5, 6, 1, 3, 4, 6, 1, 2, 4, 5, 1, 2, 4, 5, 6, 1, 2, 3, 4, 5, 6, 1, 2, 3, 4, 5, 1, 2, 3, 4, 6, 1, 5, 6, 1, 2, 3, 4, 5, 6, 3, 4, 5, 6, 1, 2, 3, 4, 6, 1, 3, 5, 6, 1, 2, 3, 4, 5, 6, 1, 2, 4, 5, 1, 2, 3, 5, 6, 1, 3, 5, 6, 1, 2, 3, 4, 5, 6, 1, 2, 3, 4, 5, 3, 4, 5, 1, 3, 5, 6, 1, 3, 4, 5, 1, 2, 3, 4, 6, 2, 4, 5, 6, 1, 2, 3, 4, 5, 6, 1, 2, 3, 5, 6, 1, 2, 3, 4, 5, 6, 1, 2, 3, 4, 5, 6, 1, 2, 3, 4, 5, 6, 1, 4, 5, 6, 1, 2, 3, 4, 5, 6, 1, 2, 3, 5, 6, 1, 2, 3, 4, 5, 6, 1, 2, 3, 1, 2, 3, 4, 6, 1, 2, 3, 4, 5, 6, 1, 2, 4, 5, 6, 1, 2, 3, 4, 5, 6, 1, 2, 3, 4, 5, 6, 1, 2, 4, 5, 6, 1, 2, 3, 4, 5, 6, 1, 2, 3, 4, 5, 6, 1, 4, 5, 6, 1, 2, 3, 4, 5, 1, 2, 4, 5, 6, 1, 2, 3, 4, 5, 6, 1, 2, 3, 4, 5, 6, 1, 2, 3, 5, 6, 3, 4, 5, 6, 1, 2, 3, 4, 6, 1, 2, 4, 5, 1, 3, 4, 5, 6, 1, 3, 4, 5, 6, 1, 2, 4, 5, 6, 3, 4, 5, 6, 1, 2, 3, 4, 5, 6, 1, 2, 3, 6, 1, 2, 3, 4, 5, 6, 1, 2, 3, 4, 5, 6, 1, 2, 3, 4, 5, 6, 2, 5, 6, 1, 3, 4, 6, 1, 2, 3, 4, 5, 6, 1, 2, 3, 4, 5, 6, 1, 3, 4, 6, 1, 2, 3, 4, 5, 6, 1, 2, 5, 6, 1, 2, 3, 5, 1, 4, 5, 6, 2, 3, 4, 5, 6, 1, 2, 3, 4, 5, 6, 2, 3, 4, 5, 6, 1, 3, 4, 5, 6, 1, 3, 4, 5, 6, 1, 2, 3, 5, 6, 1, 2, 3, 4, 5, 6, 1, 2, 3, 4, 5, 6, 1, 2, 4, 5, 6, 1, 3, 4, 5, 6, 1, 2, 3, 4, 5, 6, 1, 2, 4, 5, 6, 1, 2, 3, 4, 5, 6, 1, 2, 3, 4, 5, 6, 1, 2, 3, 4, 5, 6, 1, 2, 3, 4, 1, 2, 3, 4, 5, 6, 1, 3, 4, 5, 6, 1, 3, 4, 5, 1, 2, 3, 6, 1, 4, 5, 6, 1, 2, 3, 4, 6, 1, 3, 4, 5, 1, 2, 3, 4, 5, 6, 1, 2, 3, 4, 5, 6, 2, 3, 4, 5, 6, 1, 2, 3, 4, 5, 6, 3, 4, 5, 6, 1, 2, 3, 4, 5, 6, 1, 2, 3, 5, 2, 3, 4, 5, 1, 2, 3, 4, 5, 6, 1, 2, 4, 5, 6, 1, 2, 4, 5, 6, 2, 4, 5, 6, 1, 2, 3, 4, 5, 6, 2, 3, 4, 5, 6, 1, 2, 3, 4, 6, 1, 3, 5, 6, 2, 3, 4, 5, 1, 2, 3, 4, 5, 6, 1, 2, 3, 6, 1, 2, 3, 4, 5, 6, 1, 2, 3, 4, 5, 6, 1, 2, 3, 4, 5, 6, 2, 3, 4, 6, 1, 4, 5, 6, 3, 4, 5, 6, 1, 2, 3, 4, 6, 1, 2, 3, 4, 5, 6, 1, 2, 4, 5, 6, 1, 2, 4, 5, 6, 2, 4, 5, 6, 1, 2, 3, 4, 5, 1, 2, 4, 5, 6, 1, 2, 3, 4, 6, 1, 3, 4, 5, 1, 2, 3, 4, 5, 6, 1, 2, 3, 4, 5, 1, 3, 4, 5, 6, 1, 2, 3, 4, 1, 2, 4, 5, 6, 1, 3, 4, 5, 6, 1, 2, 3, 4, 5, 6, 1, 2, 3, 4, 6, 1, 2, 3, 5, 6, 2, 3, 4, 5, 6, 1, 2, 3, 4, 5, 6, 1, 2, 3, 4, 5, 6, 1, 2, 3, 4, 5, 6], \"Freq\": [0.4188015734510571, 0.06980026224184285, 0.06980026224184285, 0.1396005244836857, 0.06980026224184285, 0.20940078672552856, 0.03134539905992997, 0.25076319247943973, 0.47018098589894947, 0.0940361971797899, 0.12538159623971987, 0.03134539905992997, 0.08231299293160181, 0.16462598586320362, 0.16462598586320362, 0.32925197172640724, 0.16462598586320362, 0.05571759027184842, 0.11143518054369685, 0.16715277081554528, 0.33430554163109055, 0.16715277081554528, 0.11143518054369685, 0.04878820447490321, 0.3415174313243225, 0.4390938402741289, 0.09757640894980642, 0.04878820447490321, 0.14905573185537022, 0.23848917096859235, 0.17886687822644426, 0.11924458548429617, 0.3279226100818145, 0.3763952058430633, 0.025093013722870885, 0.1505580823372253, 0.1254650686143544, 0.1254650686143544, 0.20074410978296708, 0.1214695396681025, 0.28342892589223917, 0.16195938622413666, 0.16195938622413666, 0.28342892589223917, 0.06602328332020764, 0.13204656664041528, 0.3301164166010382, 0.13204656664041528, 0.3301164166010382, 0.3259508791735112, 0.0814877197933778, 0.0814877197933778, 0.3259508791735112, 0.1629754395867556, 0.12300757505940565, 0.5535340877673255, 0.1845113625891085, 0.12300757505940565, 0.20824612244297236, 0.26030765305371545, 0.36443071427520163, 0.05206153061074309, 0.10412306122148618, 0.33641663580471426, 0.06728332716094286, 0.06728332716094286, 0.20184998148282857, 0.26913330864377144, 0.26269177570584495, 0.3502557009411266, 0.08756392523528166, 0.26269177570584495, 0.18566269688556275, 0.18566269688556275, 0.5569880906566883, 0.09254880248117017, 0.21594720578939708, 0.18509760496234035, 0.1542480041352836, 0.1542480041352836, 0.18509760496234035, 0.1649018040304029, 0.08245090201520144, 0.08245090201520144, 0.3298036080608058, 0.3298036080608058, 0.36762838792930486, 0.18381419396465243, 0.18381419396465243, 0.18381419396465243, 0.06127139798821747, 0.04054512418454059, 0.24327074510724356, 0.20272562092270296, 0.28381586929178415, 0.16218049673816237, 0.04054512418454059, 0.5274451651000283, 0.08439122641600451, 0.10548903302000565, 0.08439122641600451, 0.1476846462280079, 0.042195613208002254, 0.5635818803665457, 0.10246943279391739, 0.10246943279391739, 0.07685207459543804, 0.10246943279391739, 0.025617358198479347, 0.5178694908093505, 0.08631158180155842, 0.08631158180155842, 0.25893474540467526, 0.054095053849202275, 0.5139030115674216, 0.1622851615476068, 0.054095053849202275, 0.10819010769840455, 0.10819010769840455, 0.194694812634958, 0.194694812634958, 0.389389625269916, 0.194694812634958, 0.30445643211287543, 0.2367994471989031, 0.1691424622849308, 0.03382849245698616, 0.1691424622849308, 0.06765698491397232, 0.39259279708000927, 0.05608468529714418, 0.11216937059428836, 0.22433874118857672, 0.22433874118857672, 0.36320560418812453, 0.25943257442008893, 0.10377302976803558, 0.15565954465205337, 0.10377302976803558, 0.14508071105227457, 0.14508071105227457, 0.048360237017424854, 0.48360237017424856, 0.14508071105227457, 0.5881540589622157, 0.0784205411949621, 0.11763081179244314, 0.1568410823899242, 0.0784205411949621, 0.1531638764752675, 0.07658193823763375, 0.38290969118816875, 0.22974581471290126, 0.1531638764752675, 0.16235409845083668, 0.243531147676255, 0.08117704922541834, 0.32470819690167335, 0.16235409845083668, 0.18709906560297385, 0.3741981312059477, 0.12473271040198255, 0.2494654208039651, 0.06236635520099128, 0.3862965177828574, 0.1931482588914287, 0.1931482588914287, 0.1931482588914287, 0.5152314197090203, 0.051523141970902034, 0.41218513576721627, 0.3238153087078491, 0.04317537449437987, 0.15111381073032956, 0.10793843623594969, 0.36699068320222894, 0.021587687247189936, 0.16483311658585698, 0.19779973990302838, 0.16483311658585698, 0.23076636322019978, 0.16483311658585698, 0.06593324663434279, 0.09000740922608978, 0.18001481845217956, 0.36002963690435913, 0.36002963690435913, 0.24388195929479914, 0.1773686976689448, 0.1330265232517086, 0.3769084825465078, 0.0665132616258543, 0.18732207810053597, 0.06244069270017866, 0.37464415620107194, 0.24976277080071463, 0.06244069270017866, 0.28209797629598066, 0.09403265876532689, 0.18806531753065378, 0.09403265876532689, 0.28209797629598066, 0.1753516694165621, 0.3507033388331242, 0.3507033388331242, 0.08767583470828105, 0.08637125403513544, 0.08637125403513544, 0.777341286316219, 0.08878362621770602, 0.08878362621770602, 0.08878362621770602, 0.4439181310885301, 0.17756725243541205, 0.08878362621770602, 0.0971872058593195, 0.4859360292965975, 0.194374411718639, 0.194374411718639, 0.26467968974382733, 0.22056640811985612, 0.08822656324794244, 0.13233984487191366, 0.04411328162397122, 0.26467968974382733, 0.15388977968555623, 0.09233386781133374, 0.30777955937111245, 0.2770016034340012, 0.09233386781133374, 0.09233386781133374, 0.18279887938250186, 0.24373183917666913, 0.12186591958833456, 0.42653071855917096, 0.17854927135768814, 0.2678239070365322, 0.17854927135768814, 0.3570985427153763, 0.222677688606752, 0.055669422151688, 0.334016532910128, 0.111338844303376, 0.27834711075844, 0.10943733718201751, 0.18239556197002918, 0.21887467436403502, 0.07295822478801167, 0.2553537867580409, 0.14591644957602334, 0.10944455612076419, 0.10944455612076419, 0.43777822448305675, 0.2736113903019105, 0.054722278060382094, 0.48123070566482284, 0.27498897466561306, 0.06874724366640327, 0.06874724366640327, 0.06874724366640327, 0.1920359775110815, 0.1920359775110815, 0.5761079325332445, 0.18192909248678707, 0.48514424663143213, 0.12128606165785803, 0.060643030828929016, 0.060643030828929016, 0.12128606165785803, 0.0886990323449146, 0.6208932264144021, 0.0886990323449146, 0.1773980646898292, 0.24088113377720946, 0.3011014172215118, 0.3011014172215118, 0.060220283444302365, 0.060220283444302365, 0.23821271524835239, 0.47642543049670477, 0.19057017219868191, 0.09528508609934096, 0.19667155784657347, 0.39334311569314695, 0.1475036683849301, 0.04916788946164337, 0.09833577892328674, 0.09833577892328674, 0.23146731031967288, 0.15431154021311527, 0.23146731031967288, 0.30862308042623054, 0.3572767600542524, 0.05954612667570874, 0.05954612667570874, 0.29773063337854366, 0.1786383800271262, 0.3254313956381178, 0.3254313956381178, 0.24407354672858833, 0.08135784890952945, 0.0949981319697483, 0.3799925278789932, 0.14249719795462246, 0.14249719795462246, 0.1899962639394966, 0.04749906598487415, 0.40225561966067125, 0.08045112393213426, 0.24135337179640276, 0.16090224786426852, 0.08045112393213426, 0.35644106646346785, 0.35644106646346785, 0.2673307998476009, 0.2588313328375308, 0.20706506627002463, 0.4658963991075554, 0.05176626656750616, 0.2370702783325004, 0.17780270874937532, 0.4148729870818757, 0.17780270874937532, 0.3461535191849044, 0.1730767595924522, 0.0865383797962261, 0.1730767595924522, 0.1730767595924522, 0.10753237701648741, 0.21506475403297481, 0.3225971310494622, 0.3584412567216247, 0.05249770507443834, 0.05249770507443834, 0.10499541014887669, 0.15749311522331502, 0.5774747558188218, 0.05249770507443834, 0.3173852921797607, 0.39673161522470085, 0.07934632304494017, 0.07934632304494017, 0.07934632304494017, 0.18273595950080748, 0.09136797975040374, 0.04568398987520187, 0.4111559088768168, 0.04568398987520187, 0.22841994937600935, 0.12375826137897102, 0.15469782672371377, 0.15469782672371377, 0.15469782672371377, 0.15469782672371377, 0.24751652275794203, 0.33558591303647967, 0.12203124110417442, 0.36609372331252327, 0.06101562055208721, 0.06101562055208721, 0.06101562055208721, 0.28931271134403275, 0.09643757044801092, 0.19287514089602184, 0.3857502817920437, 0.23635809699257745, 0.04727161939851549, 0.37817295518812394, 0.18908647759406197, 0.04727161939851549, 0.09454323879703098, 0.07164802118793193, 0.21494406356379575, 0.4298881271275915, 0.14329604237586385, 0.10747203178189788, 0.3280633670584403, 0.17894365475914925, 0.02982394245985821, 0.2684154821387239, 0.02982394245985821, 0.17894365475914925, 0.4275246558658996, 0.25651479351953976, 0.25651479351953976, 0.07963629175741625, 0.07963629175741625, 0.1592725835148325, 0.1592725835148325, 0.47781775054449754, 0.17619990809109454, 0.05034283088316987, 0.17619990809109454, 0.2265427389742644, 0.1510284926495096, 0.2265427389742644, 0.26841026079556846, 0.1491168115530936, 0.26841026079556846, 0.029823362310618714, 0.2982336231061872, 0.24110625686065812, 0.33754875960492137, 0.14466375411639487, 0.024110625686065812, 0.12055312843032906, 0.12055312843032906, 0.14769879405992895, 0.14769879405992895, 0.44309638217978686, 0.07384939702996447, 0.07384939702996447, 0.07384939702996447, 0.0878379409781737, 0.1756758819563474, 0.1756758819563474, 0.1756758819563474, 0.3513517639126948, 0.08736267493508072, 0.2912089164502691, 0.17472534987016144, 0.05824178329005381, 0.20384624151518835, 0.17472534987016144, 0.4315938953829016, 0.061656270768985943, 0.09248440615347892, 0.12331254153797189, 0.09248440615347892, 0.2157969476914508, 0.13342622516663494, 0.13342622516663494, 0.22237704194439156, 0.48922949227766144, 0.3616937784502583, 0.08037639521116852, 0.24112918563350555, 0.2813173832390898, 0.04018819760558426, 0.18474497453991912, 0.18474497453991912, 0.12316331635994608, 0.12316331635994608, 0.36948994907983823, 0.14741289418584846, 0.07370644709292423, 0.5159451296504696, 0.11055967063938635, 0.036853223546462116, 0.11055967063938635, 0.09901352360789094, 0.23103155508507886, 0.1320180314771879, 0.2970405708236728, 0.1650225393464849, 0.06600901573859395, 0.1331518741379378, 0.39945562241381344, 0.35507166436783416, 0.04438395804597927, 0.04438395804597927, 0.1911710551878609, 0.28675658278179134, 0.09558552759393045, 0.3823421103757218, 0.18977170184862505, 0.09488585092431252, 0.18977170184862505, 0.3795434036972501, 0.09488585092431252, 0.6459565207754849, 0.11744664014099726, 0.05872332007049863, 0.1761699602114959, 0.5128965071238096, 0.17096550237460323, 0.06838620094984128, 0.17096550237460323, 0.03419310047492064, 0.6651644304883756, 0.04434429536589171, 0.04434429536589171, 0.17737718146356685, 0.04434429536589171, 0.14626719721073214, 0.07313359860536607, 0.07313359860536607, 0.5119351902375625, 0.14626719721073214, 0.0892264127815328, 0.5353584766891968, 0.1784528255630656, 0.1784528255630656, 0.14337496747182493, 0.14337496747182493, 0.14337496747182493, 0.09558331164788329, 0.19116662329576659, 0.28674993494364986, 0.20303767590117636, 0.609113027703529, 0.06767922530039212, 0.06767922530039212, 0.2898069197741613, 0.2028648438419129, 0.02898069197741613, 0.2898069197741613, 0.02898069197741613, 0.17388415186449677, 0.16471282693910536, 0.27452137823184225, 0.054904275646368454, 0.3294256538782107, 0.054904275646368454, 0.10980855129273691, 0.0812101504722258, 0.1894903511018602, 0.2165604012592688, 0.1624203009444516, 0.2165604012592688, 0.135350250787043, 0.09942141701671675, 0.4971070850835838, 0.29826425105015025, 0.4335624749530629, 0.26013748497183775, 0.17342498998122516, 0.08671249499061258, 0.1000690160773547, 0.1000690160773547, 0.1000690160773547, 0.15010352411603203, 0.15010352411603203, 0.4002760643094188, 0.06646225186322233, 0.19938675558966698, 0.29908013338450046, 0.06646225186322233, 0.33231125931611166, 0.03323112593161116, 0.18729383813179337, 0.4682345953294834, 0.09364691906589669, 0.28094075719769007, 0.05164025819949882, 0.36148180739649177, 0.2582012909974941, 0.10328051639899764, 0.10328051639899764, 0.10328051639899764, 0.4455453609284414, 0.08910907218568828, 0.2673272165570648, 0.08910907218568828, 0.3814296183322037, 0.19071480916610184, 0.19071480916610184, 0.19071480916610184, 0.22544720532065016, 0.22544720532065016, 0.07514906844021672, 0.4508944106413003, 0.0630598630227251, 0.1261197260454502, 0.44141904115907565, 0.2522394520909004, 0.1261197260454502, 0.17880544163511203, 0.17880544163511203, 0.035761088327022406, 0.28608870661617924, 0.28608870661617924, 0.035761088327022406, 0.4618853593132173, 0.11547133982830432, 0.11547133982830432, 0.17320700974245648, 0.11547133982830432, 0.051024974968350366, 0.051024974968350366, 0.7143496495569052, 0.10204994993670073, 0.051024974968350366, 0.16864064073166082, 0.0562135469105536, 0.281067734552768, 0.2248541876422144, 0.281067734552768, 0.047398346326218366, 0.3791867706097469, 0.2369917316310918, 0.18959338530487346, 0.09479669265243673, 0.06157974183570079, 0.2771088382606535, 0.3078987091785039, 0.030789870917850393, 0.21552909642495274, 0.09236961275355118, 0.17237506054922402, 0.34475012109844805, 0.12928129541191802, 0.21546882568653, 0.043093765137306006, 0.08618753027461201, 0.307623137503034, 0.18457388250182039, 0.0615246275006068, 0.1230492550012136, 0.307623137503034, 0.10490589646089626, 0.26226474115224063, 0.3671706376131369, 0.05245294823044813, 0.20981179292179253, 0.0990753499079945, 0.3467637246779808, 0.14861302486199177, 0.24768837476998626, 0.0990753499079945, 0.04953767495399725, 0.0948399887551657, 0.3793599550206628, 0.2845199662654971, 0.0948399887551657, 0.0948399887551657, 0.09574754346115973, 0.09574754346115973, 0.2872426303834792, 0.09574754346115973, 0.19149508692231945, 0.19149508692231945, 0.11650913560238652, 0.11650913560238652, 0.17476370340357977, 0.05825456780119326, 0.17476370340357977, 0.34952740680715955, 0.25290528853731037, 0.15174317312238622, 0.02529052885373104, 0.07587158656119311, 0.25290528853731037, 0.25290528853731037, 0.3329673167761331, 0.04162091459701664, 0.3329673167761331, 0.29134640217911645, 0.15104694193904028, 0.06041877677561611, 0.06041877677561611, 0.2718844954902725, 0.12083755355123223, 0.3323032722658886, 0.12993892066419793, 0.06496946033209897, 0.06496946033209897, 0.5847251429888907, 0.12993892066419793, 0.3928104951639594, 0.3928104951639594, 0.06546841586065989, 0.13093683172131979, 0.49941360804300866, 0.06658848107240115, 0.2663539242896046, 0.1331769621448023, 0.09916830434703931, 0.09916830434703931, 0.39667321738815725, 0.2975049130411179, 0.05461061959980017, 0.32766371759880103, 0.10922123919960033, 0.43688495679840134, 0.05461061959980017, 0.3075590254731168, 0.23066926910483762, 0.0768897563682792, 0.3075590254731168, 0.06212723217713238, 0.37276339306279427, 0.06212723217713238, 0.06212723217713238, 0.24850892870852953, 0.12425446435426477, 0.08428706962539537, 0.08428706962539537, 0.46357888293967453, 0.08428706962539537, 0.21071767406348843, 0.04214353481269768, 0.08210551490372402, 0.08210551490372402, 0.08210551490372402, 0.32842205961489607, 0.4105275745186201, 0.06093540675562691, 0.09140311013344037, 0.4265478472893884, 0.24374162702250765, 0.030467703377813456, 0.15233851688906727, 0.17987860166422315, 0.2997976694403719, 0.2997976694403719, 0.17987860166422315, 0.09106630034620515, 0.1821326006924103, 0.045533150173102575, 0.40979835155792316, 0.045533150173102575, 0.22766575086551286, 0.18689573166167134, 0.4672393291541784, 0.18689573166167134, 0.09344786583083567, 0.3529051738561929, 0.08822629346404823, 0.2646788803921447, 0.2646788803921447, 0.07529025060838555, 0.07529025060838555, 0.3011610024335422, 0.3011610024335422, 0.1505805012167711, 0.07529025060838555, 0.16750251899066784, 0.08375125949533392, 0.08375125949533392, 0.4187562974766696, 0.16750251899066784, 0.352271536062516, 0.088067884015629, 0.352271536062516, 0.088067884015629, 0.088067884015629, 0.3838428896613599, 0.09596072241533997, 0.2878821672460199, 0.19192144483067994, 0.15435425730374538, 0.3969109473524881, 0.08820243274499737, 0.1102530409312467, 0.08820243274499737, 0.17640486548999473, 0.4454046622136946, 0.08098266585703538, 0.24294799757110616, 0.20245666464258846, 0.04049133292851769, 0.2840210762421589, 0.14201053812107944, 0.14201053812107944, 0.3313579222825187, 0.09467369208071963, 0.09837507927196643, 0.2951252378158993, 0.3935003170878657, 0.09837507927196643, 0.5773587910322625, 0.2664732881687365, 0.04441221469478942, 0.08882442938957884, 0.27562595959908354, 0.31802995338355794, 0.14841397824566036, 0.12721198135342318, 0.08480798756894878, 0.04240399378447439, 0.5173697396635248, 0.0646712174579406, 0.1293424349158812, 0.2586848698317624, 0.34970433182078936, 0.17485216591039468, 0.08742608295519734, 0.11656811060692979, 0.11656811060692979, 0.14571013825866222, 0.3372948316105805, 0.2075660502218957, 0.1297287813886848, 0.1297287813886848, 0.051891512555473925, 0.15567453766642175, 0.2252449191803648, 0.1228608650074717, 0.3071521625186793, 0.08190724333831446, 0.1228608650074717, 0.14333767584205032, 0.5087581513164543, 0.20350326052658174, 0.10175163026329087, 0.1526274453949363, 0.17740266908651764, 0.532208007259553, 0.08870133454325882, 0.17740266908651764, 0.09826962200035806, 0.19653924400071612, 0.39307848800143225, 0.2948088660010742, 0.23364841779747056, 0.3738374684759529, 0.04672968355949411, 0.14018905067848234, 0.18691873423797645, 0.05977279338177987, 0.11954558676355974, 0.05977279338177987, 0.4184095536724591, 0.23909117352711948, 0.05977279338177987, 0.10772210876793986, 0.1615831631519098, 0.21544421753587972, 0.3231663263038196, 0.1615831631519098, 0.15535747376698922, 0.07767873688349461, 0.15535747376698922, 0.388393684417473, 0.15535747376698922, 0.09778261479744911, 0.09778261479744911, 0.39113045918979644, 0.39113045918979644, 0.4760207229523608, 0.25387771890792576, 0.03173471486349072, 0.12693885945396288, 0.12693885945396288, 0.28459905522102924, 0.3252560631097477, 0.04065700788871846, 0.24394204733231079, 0.08131401577743692, 0.06789006445543852, 0.4752304511880696, 0.20367019336631556, 0.06789006445543852, 0.13578012891087704, 0.19761941423335466, 0.09880970711667733, 0.29642912135003197, 0.3952388284667093, 0.14311498623844784, 0.07155749311922392, 0.14311498623844784, 0.14311498623844784, 0.2862299724768957, 0.14311498623844784, 0.15000383939614478, 0.09000230363768687, 0.15000383939614478, 0.27000691091306056, 0.3300084466715185, 0.4634210003744658, 0.2317105001872329, 0.05792762504680823, 0.05792762504680823, 0.1737828751404247, 0.5163852466592052, 0.2581926233296026, 0.08606420777653419, 0.08606420777653419, 0.08815041382171988, 0.35260165528687953, 0.17630082764343977, 0.26445124146515964, 0.08815041382171988, 0.512935621579195, 0.12823390539479876, 0.03205847634869969, 0.16029238174349844, 0.12823390539479876, 0.1561424328969151, 0.3122848657938302, 0.05204747763230503, 0.3122848657938302, 0.05204747763230503, 0.10409495526461006, 0.06860681852302802, 0.13721363704605605, 0.20582045556908407, 0.06860681852302802, 0.4802477296611962, 0.43489604139670757, 0.08697920827934151, 0.3044272289776953, 0.1304688124190123, 0.043489604139670755, 0.0628569762410433, 0.03142848812052165, 0.3142848812052165, 0.2199994168436516, 0.3457133693257382, 0.1588433189908321, 0.4129926293761635, 0.031768663798166424, 0.19061198278899852, 0.1588433189908321, 0.031768663798166424, 0.04204858543982775, 0.29434009807879424, 0.0840971708796555, 0.29434009807879424, 0.168194341759311, 0.12614575631948324, 0.19094151791380798, 0.15911793159484, 0.063647172637936, 0.127294345275872, 0.127294345275872, 0.31823586318968], \"Term\": [\"03\", \"03\", \"03\", \"03\", \"03\", \"03\", \"10\", \"10\", \"10\", \"10\", \"10\", \"10\", \"1212\", \"1212\", \"1212\", \"1212\", \"1212\", \"128\", \"128\", \"128\", \"128\", \"128\", \"128\", \"12\\ubbf8\\ub2c8\", \"12\\ubbf8\\ub2c8\", \"12\\ubbf8\\ub2c8\", \"12\\ubbf8\\ub2c8\", \"12\\ubbf8\\ub2c8\", \"12\\uc2dc\\ub9ac\\uc988\", \"12\\uc2dc\\ub9ac\\uc988\", \"12\\uc2dc\\ub9ac\\uc988\", \"12\\uc2dc\\ub9ac\\uc988\", \"12\\uc2dc\\ub9ac\\uc988\", \"12\\ud504\\ub85c\", \"12\\ud504\\ub85c\", \"12\\ud504\\ub85c\", \"12\\ud504\\ub85c\", \"12\\ud504\\ub85c\", \"12\\ud504\\ub85c\", \"13\", \"13\", \"13\", \"13\", \"13\", \"14\", \"14\", \"14\", \"14\", \"14\", \"2020\", \"2020\", \"2020\", \"2020\", \"2020\", \"21\", \"21\", \"21\", \"21\", \"256\", \"256\", \"256\", \"256\", \"256\", \"30\", \"30\", \"30\", \"30\", \"30\", \"54\", \"54\", \"54\", \"54\", \"61\", \"61\", \"61\", \"\\uac00\\ub2a5\", \"\\uac00\\ub2a5\", \"\\uac00\\ub2a5\", \"\\uac00\\ub2a5\", \"\\uac00\\ub2a5\", \"\\uac00\\ub2a5\", \"\\uac00\\ub4dc\", \"\\uac00\\ub4dc\", \"\\uac00\\ub4dc\", \"\\uac00\\ub4dc\", \"\\uac00\\ub4dc\", \"\\uac00\\uc8fd\", \"\\uac00\\uc8fd\", \"\\uac00\\uc8fd\", \"\\uac00\\uc8fd\", \"\\uac00\\uc8fd\", \"\\uac00\\uc9c0\", \"\\uac00\\uc9c0\", \"\\uac00\\uc9c0\", \"\\uac00\\uc9c0\", \"\\uac00\\uc9c0\", \"\\uac00\\uc9c0\", \"\\uac15\\ud654\", \"\\uac15\\ud654\", \"\\uac15\\ud654\", \"\\uac15\\ud654\", \"\\uac15\\ud654\", \"\\uac15\\ud654\", \"\\uac15\\ud654\\uc720\\ub9ac\", \"\\uac15\\ud654\\uc720\\ub9ac\", \"\\uac15\\ud654\\uc720\\ub9ac\", \"\\uac15\\ud654\\uc720\\ub9ac\", \"\\uac15\\ud654\\uc720\\ub9ac\", \"\\uac15\\ud654\\uc720\\ub9ac\", \"\\uac1c\\uc778\\uc801\", \"\\uac1c\\uc778\\uc801\", \"\\uac1c\\uc778\\uc801\", \"\\uac1c\\uc778\\uc801\", \"\\uacbd\\uc6b0\", \"\\uacbd\\uc6b0\", \"\\uacbd\\uc6b0\", \"\\uacbd\\uc6b0\", \"\\uacbd\\uc6b0\", \"\\uacbd\\uc6b0\", \"\\uace0\\uac00\", \"\\uace0\\uac00\", \"\\uace0\\uac00\", \"\\uace0\\uac00\", \"\\uace0\\ubbfc\", \"\\uace0\\ubbfc\", \"\\uace0\\ubbfc\", \"\\uace0\\ubbfc\", \"\\uace0\\ubbfc\", \"\\uace0\\ubbfc\", \"\\uace8\\ub4dc\", \"\\uace8\\ub4dc\", \"\\uace8\\ub4dc\", \"\\uace8\\ub4dc\", \"\\uace8\\ub4dc\", \"\\uacf5\\uac1c\", \"\\uacf5\\uac1c\", \"\\uacf5\\uac1c\", \"\\uacf5\\uac1c\", \"\\uacf5\\uac1c\", \"\\uadf8\\ub798\\ud30c\\uc774\\ud2b8\", \"\\uadf8\\ub798\\ud30c\\uc774\\ud2b8\", \"\\uadf8\\ub798\\ud30c\\uc774\\ud2b8\", \"\\uadf8\\ub798\\ud30c\\uc774\\ud2b8\", \"\\uadf8\\ub798\\ud30c\\uc774\\ud2b8\", \"\\uadf8\\ub9bd\", \"\\uadf8\\ub9bd\", \"\\uadf8\\ub9bd\", \"\\uadf8\\ub9bd\", \"\\uadf8\\ub9bd\", \"\\uae09\\uc81c\", \"\\uae09\\uc81c\", \"\\uae09\\uc81c\", \"\\uae09\\uc81c\", \"\\uae09\\uc81c\", \"\\uae30\\uac00\", \"\\uae30\\uac00\", \"\\uae30\\uac00\", \"\\uae30\\uac00\", \"\\uae30\\uac00\", \"\\uae30\\uae30\", \"\\uae30\\uae30\", \"\\uae30\\uae30\", \"\\uae30\\uae30\", \"\\uae30\\uae30\", \"\\uae30\\ub300\", \"\\uae30\\ub300\", \"\\uae30\\ub300\", \"\\uae30\\ub300\", \"\\uae30\\ubcf8\", \"\\uae30\\ubcf8\", \"\\uae30\\ubcf8\", \"\\uae30\\uc874\", \"\\uae30\\uc874\", \"\\uae30\\uc874\", \"\\uae30\\uc874\", \"\\uae30\\uc874\", \"\\uae30\\uc874\", \"\\uae30\\uc885\", \"\\uae30\\uc885\", \"\\uae30\\uc885\", \"\\uae30\\uc885\", \"\\uae30\\uc885\", \"\\uae30\\uc885\", \"\\ub098\\uc758\", \"\\ub098\\uc758\", \"\\ub098\\uc758\", \"\\ub098\\uc758\", \"\\ub290\\ub08c\", \"\\ub290\\ub08c\", \"\\ub290\\ub08c\", \"\\ub290\\ub08c\", \"\\ub290\\ub08c\", \"\\ub2c8\\ud37c\", \"\\ub2c8\\ud37c\", \"\\ub2c8\\ud37c\", \"\\ub2c8\\ud37c\", \"\\ub2c8\\ud37c\", \"\\ub2f9\\uc2dc\", \"\\ub2f9\\uc2dc\", \"\\ub2f9\\uc2dc\", \"\\ub2f9\\uc2dc\", \"\\ub2f9\\uc2dc\", \"\\ub300\\ube44\", \"\\ub300\\ube44\", \"\\ub300\\ube44\", \"\\ub300\\ube44\", \"\\ub370\\uc774\\ud130\", \"\\ub370\\uc774\\ud130\", \"\\ub370\\uc774\\ud130\", \"\\ub3d9\\uc548\", \"\\ub3d9\\uc548\", \"\\ub3d9\\uc548\", \"\\ub3d9\\uc548\", \"\\ub3d9\\uc548\", \"\\ub3d9\\uc548\", \"\\ub4b7\\uba74\", \"\\ub4b7\\uba74\", \"\\ub4b7\\uba74\", \"\\ub4b7\\uba74\", \"\\ub54c\\ubb38\", \"\\ub54c\\ubb38\", \"\\ub54c\\ubb38\", \"\\ub54c\\ubb38\", \"\\ub54c\\ubb38\", \"\\ub54c\\ubb38\", \"\\ub7ed\\uc2dc\", \"\\ub7ed\\uc2dc\", \"\\ub7ed\\uc2dc\", \"\\ub7ed\\uc2dc\", \"\\ub7ed\\uc2dc\", \"\\ub7ed\\uc2dc\", \"\\ub80c\\uc988\", \"\\ub80c\\uc988\", \"\\ub80c\\uc988\", \"\\ub80c\\uc988\", \"\\ub85c\\uadf8\", \"\\ub85c\\uadf8\", \"\\ub85c\\uadf8\", \"\\ub85c\\uadf8\", \"\\ub9ac\\ubdf0\", \"\\ub9ac\\ubdf0\", \"\\ub9ac\\ubdf0\", \"\\ub9ac\\ubdf0\", \"\\ub9ac\\ubdf0\", \"\\ub9c8\\uc74c\", \"\\ub9c8\\uc74c\", \"\\ub9c8\\uc74c\", \"\\ub9c8\\uc74c\", \"\\ub9c8\\uc74c\", \"\\ub9c8\\uc74c\", \"\\ub9cc\\uc871\", \"\\ub9cc\\uc871\", \"\\ub9cc\\uc871\", \"\\ub9cc\\uc871\", \"\\ub9cc\\uc871\", \"\\ub9cc\\ud07c\", \"\\ub9cc\\ud07c\", \"\\ub9cc\\ud07c\", \"\\ub9cc\\ud07c\", \"\\ub9cc\\ud07c\", \"\\ub9dd\\uc6d0\", \"\\ub9dd\\uc6d0\", \"\\ub9dd\\uc6d0\", \"\\ub9e5\\uc138\\uc774\\ud504\", \"\\ub9e5\\uc138\\uc774\\ud504\", \"\\ub9e5\\uc138\\uc774\\ud504\", \"\\ub9e5\\uc138\\uc774\\ud504\", \"\\ub9e5\\uc138\\uc774\\ud504\", \"\\ub9e5\\uc138\\uc774\\ud504\", \"\\ubaa8\\ub4dc\", \"\\ubaa8\\ub4dc\", \"\\ubaa8\\ub4dc\", \"\\ubaa8\\ub4dc\", \"\\ubaa8\\uc2b5\", \"\\ubaa8\\uc2b5\", \"\\ubaa8\\uc2b5\", \"\\ubaa8\\uc2b5\", \"\\ubaa8\\uc2b5\", \"\\ubb34\\uac8c\", \"\\ubb34\\uac8c\", \"\\ubb34\\uac8c\", \"\\ubb34\\uac8c\", \"\\ubb34\\uc120\", \"\\ubb34\\uc120\", \"\\ubb34\\uc120\", \"\\ubb34\\uc120\", \"\\ubb34\\uc120\", \"\\ubb34\\uc120\", \"\\ubc15\\uc2a4\", \"\\ubc15\\uc2a4\", \"\\ubc15\\uc2a4\", \"\\ubc15\\uc2a4\", \"\\ubc29\\ubc95\", \"\\ubc29\\ubc95\", \"\\ubc29\\ubc95\", \"\\ubc29\\ubc95\", \"\\ubc29\\ubc95\", \"\\ubc30\\uc1a1\", \"\\ubc30\\uc1a1\", \"\\ubc30\\uc1a1\", \"\\ubc30\\uc1a1\", \"\\ubc30\\ud130\\ub9ac\", \"\\ubc30\\ud130\\ub9ac\", \"\\ubc30\\ud130\\ub9ac\", \"\\ubc30\\ud130\\ub9ac\", \"\\ubc30\\ud130\\ub9ac\", \"\\ubc30\\ud130\\ub9ac\", \"\\ubc84\\ud2bc\", \"\\ubc84\\ud2bc\", \"\\ubc84\\ud2bc\", \"\\ubc84\\ud2bc\", \"\\ubc84\\ud2bc\", \"\\ubc88\\uc9f8\", \"\\ubc88\\uc9f8\", \"\\ubc88\\uc9f8\", \"\\ubc94\\ud37c\", \"\\ubc94\\ud37c\", \"\\ubc94\\ud37c\", \"\\ubc94\\ud37c\", \"\\ubcc0\\uacbd\", \"\\ubcc0\\uacbd\", \"\\ubcc0\\uacbd\", \"\\ubcc0\\uacbd\", \"\\ubcf4\\ub77c\\uc0c9\", \"\\ubcf4\\ub77c\\uc0c9\", \"\\ubcf4\\ub77c\\uc0c9\", \"\\ubcf4\\ub77c\\uc0c9\", \"\\ubcf4\\ub77c\\uc0c9\", \"\\ubd80\\ubd84\", \"\\ubd80\\ubd84\", \"\\ubd80\\ubd84\", \"\\ubd80\\ubd84\", \"\\ubd80\\ucc29\", \"\\ubd80\\ucc29\", \"\\ubd80\\ucc29\", \"\\ubd80\\ucc29\", \"\\ubd80\\ucc29\", \"\\ubd80\\ucc29\", \"\\ubd88\\ud3b8\", \"\\ubd88\\ud3b8\", \"\\ubd88\\ud3b8\", \"\\ubd88\\ud3b8\", \"\\ubd88\\ud3b8\", \"\\ube14\\ub799\", \"\\ube14\\ub799\", \"\\ube14\\ub799\", \"\\ube14\\ub799\", \"\\ube14\\ub799\", \"\\ube14\\ub799\", \"\\ube14\\ub8e8\", \"\\ube14\\ub8e8\", \"\\ube14\\ub8e8\", \"\\ube14\\ub8e8\", \"\\ube14\\ub8e8\", \"\\ube14\\ub8e8\", \"\\ube44\\uad50\", \"\\ube44\\uad50\", \"\\ube44\\uad50\", \"\\ube44\\uad50\", \"\\ube44\\uad50\", \"\\ube44\\uad50\", \"\\uc0ac\\uacfc\", \"\\uc0ac\\uacfc\", \"\\uc0ac\\uacfc\", \"\\uc0ac\\uacfc\", \"\\uc0ac\\uc2e4\", \"\\uc0ac\\uc2e4\", \"\\uc0ac\\uc2e4\", \"\\uc0ac\\uc2e4\", \"\\uc0ac\\uc2e4\", \"\\uc0ac\\uc2e4\", \"\\uc0ac\\uc774\\uc988\", \"\\uc0ac\\uc774\\uc988\", \"\\uc0ac\\uc774\\uc988\", \"\\uc0ac\\uc774\\uc988\", \"\\uc0ac\\uc774\\uc988\", \"\\uc0ac\\uc804\", \"\\uc0ac\\uc804\", \"\\uc0ac\\uc804\", \"\\uc0ac\\uc804\", \"\\uc0ac\\uc804\", \"\\uc0ac\\uc804\", \"\\uc0bc\\uc131\", \"\\uc0bc\\uc131\", \"\\uc0bc\\uc131\", \"\\uc0c1\\ud0dc\", \"\\uc0c1\\ud0dc\", \"\\uc0c1\\ud0dc\", \"\\uc0c1\\ud0dc\", \"\\uc0c1\\ud0dc\", \"\\uc0dd\\uac01\", \"\\uc0dd\\uac01\", \"\\uc0dd\\uac01\", \"\\uc0dd\\uac01\", \"\\uc0dd\\uac01\", \"\\uc0dd\\uac01\", \"\\uc120\\ud0dd\", \"\\uc120\\ud0dd\", \"\\uc120\\ud0dd\", \"\\uc120\\ud0dd\", \"\\uc120\\ud0dd\", \"\\uc138\\uc774\\ud504\", \"\\uc138\\uc774\\ud504\", \"\\uc138\\uc774\\ud504\", \"\\uc138\\uc774\\ud504\", \"\\uc138\\uc774\\ud504\", \"\\uc138\\uc774\\ud504\", \"\\uc18c\\uac1c\", \"\\uc18c\\uac1c\", \"\\uc18c\\uac1c\", \"\\uc18c\\uac1c\", \"\\uc18c\\uac1c\", \"\\uc18c\\uac1c\", \"\\uc2a4\\ud1a0\\uc5b4\", \"\\uc2a4\\ud1a0\\uc5b4\", \"\\uc2a4\\ud1a0\\uc5b4\", \"\\uc2a4\\ud1a0\\uc5b4\", \"\\uc2a4\\ud1a0\\uc5b4\", \"\\uc2a4\\ud399\", \"\\uc2a4\\ud399\", \"\\uc2a4\\ud399\", \"\\uc2a4\\ud399\", \"\\uc2a4\\ud399\", \"\\uc2a4\\ud399\", \"\\uc2ac\\ub9bc\", \"\\uc2ac\\ub9bc\", \"\\uc2ac\\ub9bc\", \"\\uc2ac\\ub9bc\", \"\\uc2ac\\ub9bc\", \"\\uc2ac\\ub9bc\", \"\\uc2dc\\uac04\", \"\\uc2dc\\uac04\", \"\\uc2dc\\uac04\", \"\\uc2dc\\uac04\", \"\\uc2e4\\ub9ac\\ucf58\", \"\\uc2e4\\ub9ac\\ucf58\", \"\\uc2e4\\ub9ac\\ucf58\", \"\\uc2e4\\ub9ac\\ucf58\", \"\\uc2e4\\ub9ac\\ucf58\", \"\\uc544\\ub798\", \"\\uc544\\ub798\", \"\\uc544\\ub798\", \"\\uc544\\ub798\", \"\\uc544\\ub798\", \"\\uc544\\uc774\\ud3f011\", \"\\uc544\\uc774\\ud3f011\", \"\\uc544\\uc774\\ud3f011\", \"\\uc544\\uc774\\ud3f011\", \"\\uc544\\uc774\\ud3f011\", \"\\uc544\\uc774\\ud3f011\", \"\\uc544\\uc774\\ud3f012\\uc2dc\\ub9ac\\uc988\", \"\\uc544\\uc774\\ud3f012\\uc2dc\\ub9ac\\uc988\", \"\\uc544\\uc774\\ud3f012\\uc2dc\\ub9ac\\uc988\", \"\\uc544\\uc774\\ud3f012\\uc2dc\\ub9ac\\uc988\", \"\\uc544\\uc774\\ud3f012\\uc2dc\\ub9ac\\uc988\", \"\\uc544\\uc774\\ud3f012\\uc2dc\\ub9ac\\uc988\", \"\\uc544\\uc774\\ud3f012\\ucf00\\uc774\\uc2a4\", \"\\uc544\\uc774\\ud3f012\\ucf00\\uc774\\uc2a4\", \"\\uc544\\uc774\\ud3f012\\ucf00\\uc774\\uc2a4\", \"\\uc544\\uc774\\ud3f012\\ucf00\\uc774\\uc2a4\", \"\\uc544\\uc774\\ud3f012\\ucf00\\uc774\\uc2a4\", \"\\uc544\\uc774\\ud3f013\", \"\\uc544\\uc774\\ud3f013\", \"\\uc544\\uc774\\ud3f013\", \"\\uc544\\uc774\\ud3f013\", \"\\uc544\\uc774\\ud3f06\", \"\\uc544\\uc774\\ud3f06\", \"\\uc544\\uc774\\ud3f06\", \"\\uc544\\uc774\\ud3f06\", \"\\uc544\\uc774\\ud3f06\", \"\\uc544\\uc774\\ud3f08\", \"\\uc544\\uc774\\ud3f08\", \"\\uc544\\uc774\\ud3f08\", \"\\uc544\\uc774\\ud3f08\", \"\\uc548\\ub155\", \"\\uc548\\ub155\", \"\\uc548\\ub155\", \"\\uc548\\ub155\", \"\\uc548\\ub155\", \"\\uc548\\ub155\\ud558\\uc138\", \"\\uc548\\ub155\\ud558\\uc138\", \"\\uc548\\ub155\\ud558\\uc138\", \"\\uc548\\ub155\\ud558\\uc138\", \"\\uc548\\ub155\\ud558\\uc138\", \"\\uc561\\uc815\\ubcf4\\ud638\", \"\\uc561\\uc815\\ubcf4\\ud638\", \"\\uc561\\uc815\\ubcf4\\ud638\", \"\\uc561\\uc815\\ubcf4\\ud638\", \"\\uc561\\uc815\\ubcf4\\ud638\", \"\\uc57c\\uac04\", \"\\uc57c\\uac04\", \"\\uc57c\\uac04\", \"\\uc57c\\uac04\", \"\\uc5bc\\ub9c8\", \"\\uc5bc\\ub9c8\", \"\\uc5bc\\ub9c8\", \"\\uc5bc\\ub9c8\", \"\\uc5bc\\ub9c8\", \"\\uc5bc\\ub9c8\", \"\\uc5d0\\uc5b4\", \"\\uc5d0\\uc5b4\", \"\\uc5d0\\uc5b4\", \"\\uc5d0\\uc5b4\", \"\\uc608\\uc57d\", \"\\uc608\\uc57d\", \"\\uc608\\uc57d\", \"\\uc608\\uc57d\", \"\\uc608\\uc57d\", \"\\uc608\\uc57d\", \"\\uc608\\uc804\", \"\\uc608\\uc804\", \"\\uc608\\uc804\", \"\\uc608\\uc804\", \"\\uc608\\uc804\", \"\\uc608\\uc804\", \"\\uc624\\ub298\", \"\\uc624\\ub298\", \"\\uc624\\ub298\", \"\\uc624\\ub298\", \"\\uc624\\ub298\", \"\\uc624\\ub298\", \"\\uc624\\ub79c\\ub9cc\", \"\\uc624\\ub79c\\ub9cc\", \"\\uc624\\ub79c\\ub9cc\", \"\\uc644\\ubcbd\", \"\\uc644\\ubcbd\", \"\\uc644\\ubcbd\", \"\\uc644\\ubcbd\", \"\\uc694\\uc998\", \"\\uc694\\uc998\", \"\\uc694\\uc998\", \"\\uc694\\uc998\", \"\\uc694\\uc998\", \"\\uc694\\uc998\", \"\\uc6a9\\ub7c9\", \"\\uc6a9\\ub7c9\", \"\\uc6a9\\ub7c9\", \"\\uc6a9\\ub7c9\", \"\\uc6a9\\ub7c9\", \"\\uc6a9\\ub7c9\", \"\\uc6b8\\ud2b8\\ub77c\", \"\\uc6b8\\ud2b8\\ub77c\", \"\\uc6b8\\ud2b8\\ub77c\", \"\\uc6b8\\ud2b8\\ub77c\", \"\\uc6d0\\ub798\", \"\\uc6d0\\ub798\", \"\\uc6d0\\ub798\", \"\\uc6d0\\ub798\", \"\\uc6d0\\ub798\", \"\\uc6d0\\ub798\", \"\\uc704\\uce58\", \"\\uc704\\uce58\", \"\\uc704\\uce58\", \"\\uc704\\uce58\", \"\\uc720\\uc2ec\", \"\\uc720\\uc2ec\", \"\\uc720\\uc2ec\", \"\\uc720\\uc2ec\", \"\\uc774\\uac83\", \"\\uc774\\uac83\", \"\\uc774\\uac83\", \"\\uc774\\uac83\", \"\\uc774\\ubc88\\uc544\\uc774\\ud3f012\", \"\\uc774\\ubc88\\uc544\\uc774\\ud3f012\", \"\\uc774\\ubc88\\uc544\\uc774\\ud3f012\", \"\\uc774\\ubc88\\uc544\\uc774\\ud3f012\", \"\\uc774\\ubc88\\uc544\\uc774\\ud3f012\", \"\\uc774\\uc0c1\", \"\\uc774\\uc0c1\", \"\\uc774\\uc0c1\", \"\\uc774\\uc0c1\", \"\\uc774\\uc0c1\", \"\\uc774\\uc0c1\", \"\\uc774\\uc6a9\", \"\\uc774\\uc6a9\", \"\\uc774\\uc6a9\", \"\\uc774\\uc6a9\", \"\\uc774\\uc6a9\", \"\\uc774\\uc720\", \"\\uc774\\uc720\", \"\\uc774\\uc720\", \"\\uc774\\uc720\", \"\\uc774\\uc720\", \"\\uc774\\uc804\", \"\\uc774\\uc804\", \"\\uc774\\uc804\", \"\\uc774\\uc804\", \"\\uc774\\uc804\", \"\\uc778\\uae30\", \"\\uc778\\uae30\", \"\\uc778\\uae30\", \"\\uc778\\uae30\", \"\\uc778\\uae30\", \"\\uc778\\uce58\", \"\\uc778\\uce58\", \"\\uc778\\uce58\", \"\\uc778\\uce58\", \"\\uc778\\uce58\", \"\\uc778\\uce58\", \"\\uc77c\\ubc18\", \"\\uc77c\\ubc18\", \"\\uc77c\\ubc18\", \"\\uc77c\\ubc18\", \"\\uc77c\\ubc18\", \"\\uc77c\\ubc18\", \"\\uc790\\uae09\", \"\\uc790\\uae09\", \"\\uc790\\uae09\", \"\\uc790\\uae09\", \"\\uc790\\uae09\", \"\\uc790\\uccb4\", \"\\uc790\\uccb4\", \"\\uc790\\uccb4\", \"\\uc790\\uccb4\", \"\\uc790\\uccb4\", \"\\uc791\\ub144\", \"\\uc791\\ub144\", \"\\uc791\\ub144\", \"\\uc791\\ub144\", \"\\uc791\\ub144\", \"\\uc791\\ub144\", \"\\uc7a5\\uc810\", \"\\uc7a5\\uc810\", \"\\uc7a5\\uc810\", \"\\uc7a5\\uc810\", \"\\uc7a5\\uc810\", \"\\uc801\\uc6a9\", \"\\uc801\\uc6a9\", \"\\uc801\\uc6a9\", \"\\uc801\\uc6a9\", \"\\uc801\\uc6a9\", \"\\uc801\\uc6a9\", \"\\uc804\\uba74\", \"\\uc804\\uba74\", \"\\uc804\\uba74\", \"\\uc804\\uba74\", \"\\uc804\\uba74\", \"\\uc804\\uba74\", \"\\uc815\\ub3c4\", \"\\uc815\\ub3c4\", \"\\uc815\\ub3c4\", \"\\uc815\\ub3c4\", \"\\uc815\\ub3c4\", \"\\uc815\\ub3c4\", \"\\uc815\\ud488\", \"\\uc815\\ud488\", \"\\uc815\\ud488\", \"\\uc815\\ud488\", \"\\uc81c\\uac00\", \"\\uc81c\\uac00\", \"\\uc81c\\uac00\", \"\\uc81c\\uac00\", \"\\uc81c\\uac00\", \"\\uc81c\\uac00\", \"\\uc81c\\uacf5\", \"\\uc81c\\uacf5\", \"\\uc81c\\uacf5\", \"\\uc81c\\uacf5\", \"\\uc81c\\uacf5\", \"\\uc81c\\uc791\", \"\\uc81c\\uc791\", \"\\uc81c\\uc791\", \"\\uc81c\\uc791\", \"\\uc8fc\\ubb38\", \"\\uc8fc\\ubb38\", \"\\uc8fc\\ubb38\", \"\\uc8fc\\ubb38\", \"\\uc8fc\\ubcc0\", \"\\uc8fc\\ubcc0\", \"\\uc8fc\\ubcc0\", \"\\uc8fc\\ubcc0\", \"\\uc9c0\\uae08\", \"\\uc9c0\\uae08\", \"\\uc9c0\\uae08\", \"\\uc9c0\\uae08\", \"\\uc9c0\\uae08\", \"\\uc9c0\\ubb38\", \"\\uc9c0\\ubb38\", \"\\uc9c0\\ubb38\", \"\\uc9c0\\ubb38\", \"\\uc9c0\\uc6d0\", \"\\uc9c0\\uc6d0\", \"\\uc9c0\\uc6d0\", \"\\uc9c0\\uc6d0\", \"\\uc9c0\\uc6d0\", \"\\uc9c0\\uc6d0\", \"\\ucc28\\uc774\", \"\\ucc28\\uc774\", \"\\ucc28\\uc774\", \"\\ucc28\\uc774\", \"\\ucc28\\uc774\", \"\\ucc28\\uc774\", \"\\ucc38\\uace0\", \"\\ucc38\\uace0\", \"\\ucc38\\uace0\", \"\\ucc38\\uace0\", \"\\ucc38\\uace0\", \"\\ucc98\\uc74c\", \"\\ucc98\\uc74c\", \"\\ucc98\\uc74c\", \"\\ucc98\\uc74c\", \"\\ucc98\\uc74c\", \"\\ucc98\\uc74c\", \"\\ucd2c\\uc601\", \"\\ucd2c\\uc601\", \"\\ucd2c\\uc601\", \"\\ucd2c\\uc601\", \"\\ucd5c\\uadfc\", \"\\ucd5c\\uadfc\", \"\\ucd5c\\uadfc\", \"\\ucd5c\\uadfc\", \"\\ucd5c\\uadfc\", \"\\ucd5c\\uadfc\", \"\\ucd5c\\ub300\", \"\\ucd5c\\ub300\", \"\\ucd5c\\ub300\", \"\\ucd5c\\ub300\", \"\\ucd5c\\uc2e0\", \"\\ucd5c\\uc2e0\", \"\\ucd5c\\uc2e0\", \"\\ucd5c\\uc2e0\", \"\\ucd94\\uac00\", \"\\ucd94\\uac00\", \"\\ucd94\\uac00\", \"\\ucd94\\uac00\", \"\\ucd94\\uac00\", \"\\ucd94\\uac00\", \"\\ucd94\\ucc9c\\uc544\\uc774\", \"\\ucd94\\ucc9c\\uc544\\uc774\", \"\\ucd94\\ucc9c\\uc544\\uc774\", \"\\ucd94\\ucc9c\\uc544\\uc774\", \"\\ucd94\\ucc9c\\uc544\\uc774\", \"\\ucd94\\ucc9c\\uc544\\uc774\\ud3f012\", \"\\ucd94\\ucc9c\\uc544\\uc774\\ud3f012\", \"\\ucd94\\ucc9c\\uc544\\uc774\\ud3f012\", \"\\ucd94\\ucc9c\\uc544\\uc774\\ud3f012\", \"\\ucd94\\ucc9c\\uc544\\uc774\\ud3f012\", \"\\ucd9c\\uace0\", \"\\ucd9c\\uace0\", \"\\ucd9c\\uace0\", \"\\ucd9c\\uace0\", \"\\ucda9\\uc804\", \"\\ucda9\\uc804\", \"\\ucda9\\uc804\", \"\\ucda9\\uc804\", \"\\ucda9\\uc804\", \"\\ucda9\\uc804\", \"\\ucda9\\uc804\\uae30\", \"\\ucda9\\uc804\\uae30\", \"\\ucda9\\uc804\\uae30\", \"\\ucda9\\uc804\\uae30\", \"\\ucda9\\uc804\\uae30\", \"\\uce21\\uba74\", \"\\uce21\\uba74\", \"\\uce21\\uba74\", \"\\uce21\\uba74\", \"\\uce21\\uba74\", \"\\uce5c\\uad6c\", \"\\uce5c\\uad6c\", \"\\uce5c\\uad6c\", \"\\uce5c\\uad6c\", \"\\uce74\\ub4dc\", \"\\uce74\\ub4dc\", \"\\uce74\\ub4dc\", \"\\uce74\\ub4dc\", \"\\uceec\\ub7ec\", \"\\uceec\\ub7ec\", \"\\uceec\\ub7ec\", \"\\uceec\\ub7ec\", \"\\uceec\\ub7ec\", \"\\uceec\\ub7ec\", \"\\ucf00\\uc774\", \"\\ucf00\\uc774\", \"\\ucf00\\uc774\", \"\\ucf00\\uc774\", \"\\ucf00\\uc774\\uc2a4\\uc544\\uc774\", \"\\ucf00\\uc774\\uc2a4\\uc544\\uc774\", \"\\ucf00\\uc774\\uc2a4\\uc544\\uc774\", \"\\ucf00\\uc774\\uc2a4\\uc544\\uc774\", \"\\ucf00\\uc774\\uc2a4\\uc544\\uc774\", \"\\ucf00\\uc774\\uc2a4\\uc544\\uc774\", \"\\ucf00\\uc774\\uc2a4\\uc544\\uc774\\ud3f012\", \"\\ucf00\\uc774\\uc2a4\\uc544\\uc774\\ud3f012\", \"\\ucf00\\uc774\\uc2a4\\uc544\\uc774\\ud3f012\", \"\\ucf00\\uc774\\uc2a4\\uc544\\uc774\\ud3f012\", \"\\ucf00\\uc774\\uc2a4\\uc544\\uc774\\ud3f012\", \"\\ucf00\\uc774\\uc2a4\\uc544\\uc774\\ud3f012\", \"\\ud06c\\uae30\", \"\\ud06c\\uae30\", \"\\ud06c\\uae30\", \"\\ud06c\\uae30\", \"\\ud06c\\uae30\", \"\\ud06c\\uae30\", \"\\ud0d1\\uc7ac\", \"\\ud0d1\\uc7ac\", \"\\ud0d1\\uc7ac\", \"\\ud0d1\\uc7ac\", \"\\ud14c\\ub450\\ub9ac\", \"\\ud14c\\ub450\\ub9ac\", \"\\ud14c\\ub450\\ub9ac\", \"\\ud14c\\ub450\\ub9ac\", \"\\ud2b8\\ub77c\", \"\\ud2b8\\ub77c\", \"\\ud2b8\\ub77c\", \"\\ud2b8\\ub77c\", \"\\ud310\\ub9e4\", \"\\ud310\\ub9e4\", \"\\ud310\\ub9e4\", \"\\ud310\\ub9e4\", \"\\ud310\\ub9e4\", \"\\ud328\\ub4dc\", \"\\ud328\\ub4dc\", \"\\ud328\\ub4dc\", \"\\ud328\\ub4dc\", \"\\ud328\\ub4dc\", \"\\ud328\\ub4dc\", \"\\ud3ec\\uc2a4\", \"\\ud3ec\\uc2a4\", \"\\ud3ec\\uc2a4\", \"\\ud3ec\\uc2a4\", \"\\ud3ec\\uc2a4\", \"\\ud3ec\\uc2a4\\ud305\", \"\\ud3ec\\uc2a4\\ud305\", \"\\ud3ec\\uc2a4\\ud305\", \"\\ud3ec\\uc2a4\\ud305\", \"\\ud3ec\\uc2a4\\ud305\", \"\\ud3ec\\ud568\", \"\\ud3ec\\ud568\", \"\\ud3ec\\ud568\", \"\\ud3ec\\ud568\", \"\\ud3f0\\ucf00\\uc774\\uc2a4\", \"\\ud3f0\\ucf00\\uc774\\uc2a4\", \"\\ud3f0\\ucf00\\uc774\\uc2a4\", \"\\ud3f0\\ucf00\\uc774\\uc2a4\", \"\\ud3f0\\ucf00\\uc774\\uc2a4\", \"\\ud50c\\ub7ec\\uc2a4\", \"\\ud50c\\ub7ec\\uc2a4\", \"\\ud50c\\ub7ec\\uc2a4\", \"\\ud50c\\ub7ec\\uc2a4\", \"\\ud50c\\ub7ec\\uc2a4\", \"\\ud50c\\uc0c9\\uc0c1\", \"\\ud50c\\uc0c9\\uc0c1\", \"\\ud50c\\uc0c9\\uc0c1\", \"\\ud50c\\uc0c9\\uc0c1\", \"\\ud50c\\uc0c9\\uc0c1\", \"\\ud544\\ub984\\uc544\\uc774\\ud3f012\", \"\\ud544\\ub984\\uc544\\uc774\\ud3f012\", \"\\ud544\\ub984\\uc544\\uc774\\ud3f012\", \"\\ud544\\ub984\\uc544\\uc774\\ud3f012\", \"\\ud544\\uc694\", \"\\ud544\\uc694\", \"\\ud544\\uc694\", \"\\ud544\\uc694\", \"\\ud544\\uc694\", \"\\ud544\\uc694\", \"\\ud558\\ub098\", \"\\ud558\\ub098\", \"\\ud558\\ub098\", \"\\ud558\\ub098\", \"\\ud558\\ub098\", \"\\ud558\\ub2e4\", \"\\ud558\\ub2e4\", \"\\ud558\\ub2e4\", \"\\ud558\\ub2e4\", \"\\ud558\\ub2e4\", \"\\ud558\\ub4dc\", \"\\ud558\\ub4dc\", \"\\ud558\\ub4dc\", \"\\ud558\\ub4dc\", \"\\ud558\\uba74\", \"\\ud558\\uba74\", \"\\ud558\\uba74\", \"\\ud558\\uba74\", \"\\ud558\\uba74\", \"\\ud558\\uc138\", \"\\ud558\\uc138\", \"\\ud558\\uc138\", \"\\ud558\\uc138\", \"\\ud558\\uc138\", \"\\ud560\\uc778\", \"\\ud560\\uc778\", \"\\ud560\\uc778\", \"\\ud560\\uc778\", \"\\ud560\\uc778\", \"\\ud560\\uc778\", \"\\ud604\\uc7ac\", \"\\ud604\\uc7ac\", \"\\ud604\\uc7ac\", \"\\ud604\\uc7ac\", \"\\ud604\\uc7ac\", \"\\ud654\\uba74\", \"\\ud654\\uba74\", \"\\ud654\\uba74\", \"\\ud654\\uba74\", \"\\ud654\\uba74\", \"\\ud654\\uc774\\ud2b8\", \"\\ud654\\uc774\\ud2b8\", \"\\ud654\\uc774\\ud2b8\", \"\\ud654\\uc774\\ud2b8\", \"\\ud654\\uc774\\ud2b8\", \"\\ud6c4\\uae30\", \"\\ud6c4\\uae30\", \"\\ud6c4\\uae30\", \"\\ud6c4\\uae30\", \"\\ud6c4\\uae30\", \"\\ud6c4\\uae30\", \"\\ud6c4\\uba74\", \"\\ud6c4\\uba74\", \"\\ud6c4\\uba74\", \"\\ud6c4\\uba74\", \"\\ud6c4\\uba74\", \"\\ud6c4\\uba74\", \"\\ud734\\ub300\\ud3f0\", \"\\ud734\\ub300\\ud3f0\", \"\\ud734\\ub300\\ud3f0\", \"\\ud734\\ub300\\ud3f0\", \"\\ud734\\ub300\\ud3f0\", \"\\ud734\\ub300\\ud3f0\"]}, \"R\": 30, \"lambda.step\": 0.01, \"plot.opts\": {\"xlab\": \"PC1\", \"ylab\": \"PC2\"}, \"topic.order\": [5, 6, 3, 1, 2, 4]};\n",
       "\n",
       "function LDAvis_load_lib(url, callback){\n",
       "  var s = document.createElement('script');\n",
       "  s.src = url;\n",
       "  s.async = true;\n",
       "  s.onreadystatechange = s.onload = callback;\n",
       "  s.onerror = function(){console.warn(\"failed to load library \" + url);};\n",
       "  document.getElementsByTagName(\"head\")[0].appendChild(s);\n",
       "}\n",
       "\n",
       "if(typeof(LDAvis) !== \"undefined\"){\n",
       "   // already loaded: just create the visualization\n",
       "   !function(LDAvis){\n",
       "       new LDAvis(\"#\" + \"ldavis_el550571401919317033606279951637\", ldavis_el550571401919317033606279951637_data);\n",
       "   }(LDAvis);\n",
       "}else if(typeof define === \"function\" && define.amd){\n",
       "   // require.js is available: use it to load d3/LDAvis\n",
       "   require.config({paths: {d3: \"https://d3js.org/d3.v5\"}});\n",
       "   require([\"d3\"], function(d3){\n",
       "      window.d3 = d3;\n",
       "      LDAvis_load_lib(\"https://cdn.jsdelivr.net/gh/bmabey/pyLDAvis@3.3.1/pyLDAvis/js/ldavis.v3.0.0.js\", function(){\n",
       "        new LDAvis(\"#\" + \"ldavis_el550571401919317033606279951637\", ldavis_el550571401919317033606279951637_data);\n",
       "      });\n",
       "    });\n",
       "}else{\n",
       "    // require.js not available: dynamically load d3 & LDAvis\n",
       "    LDAvis_load_lib(\"https://d3js.org/d3.v5.js\", function(){\n",
       "         LDAvis_load_lib(\"https://cdn.jsdelivr.net/gh/bmabey/pyLDAvis@3.3.1/pyLDAvis/js/ldavis.v3.0.0.js\", function(){\n",
       "                 new LDAvis(\"#\" + \"ldavis_el550571401919317033606279951637\", ldavis_el550571401919317033606279951637_data);\n",
       "            })\n",
       "         });\n",
       "}\n",
       "</script>"
      ],
      "text/plain": [
       "PreparedData(topic_coordinates=              x         y  topics  cluster       Freq\n",
       "topic                                                \n",
       "4      0.047688 -0.073628       1        1  20.113367\n",
       "5      0.031074  0.093734       2        1  17.434573\n",
       "2      0.076112 -0.001329       3        1  16.556816\n",
       "0     -0.049209  0.019517       4        1  16.122880\n",
       "1     -0.028570 -0.026629       5        1  15.485937\n",
       "3     -0.077095 -0.011665       6        1  14.286427, topic_info=         Term       Freq      Total Category  logprob  loglift\n",
       "95         기본  19.000000  19.000000  Default  30.0000  30.0000\n",
       "200        이유  19.000000  19.000000  Default  29.0000  29.0000\n",
       "130       화이트  31.000000  31.000000  Default  28.0000  28.0000\n",
       "181        부분  27.000000  27.000000  Default  27.0000  27.0000\n",
       "125        카드  22.000000  22.000000  Default  26.0000  26.0000\n",
       "..        ...        ...        ...      ...      ...      ...\n",
       "19         스펙   5.973484  34.339608   Topic6  -4.6820   0.1969\n",
       "59         사전   5.794057  33.530108   Topic6  -4.7125   0.1902\n",
       "159  케이스아이폰12   5.973683  38.541948   Topic6  -4.6819   0.0815\n",
       "75         가능   5.740110  32.415330   Topic6  -4.7218   0.2147\n",
       "60         예약   5.774764  34.505732   Topic6  -4.7158   0.1582\n",
       "\n",
       "[301 rows x 6 columns], token_table=      Topic      Freq Term\n",
       "term                      \n",
       "231       1  0.418802   03\n",
       "231       2  0.069800   03\n",
       "231       3  0.069800   03\n",
       "231       4  0.139601   03\n",
       "231       5  0.069800   03\n",
       "...     ...       ...  ...\n",
       "106       2  0.159118  휴대폰\n",
       "106       3  0.063647  휴대폰\n",
       "106       4  0.127294  휴대폰\n",
       "106       5  0.127294  휴대폰\n",
       "106       6  0.318236  휴대폰\n",
       "\n",
       "[918 rows x 3 columns], R=30, lambda_step=0.01, plot_opts={'xlab': 'PC1', 'ylab': 'PC2'}, topic_order=[5, 6, 3, 1, 2, 4])"
      ]
     },
     "execution_count": 70,
     "metadata": {},
     "output_type": "execute_result"
    }
   ],
   "source": [
    "#LDA 토픽모델링 시각화 결과 출력: Intertopic Distance Map이 겹치지 않고 잘 구분되어야 적절한 토픽개수로 볼 수 있음\n",
    "import pyLDAvis\n",
    "import pyLDAvis.gensim_models\n",
    "\n",
    "pyLDAvis.enable_notebook()\n",
    "vis = pyLDAvis.gensim_models.prepare(ldamodel, corpus, dictionary)\n",
    "vis"
   ]
  },
  {
   "cell_type": "code",
   "execution_count": 71,
   "id": "1ab6270d",
   "metadata": {},
   "outputs": [],
   "source": [
    "#데이터 다시 불러오기\n",
    "data = pd.read_csv('/Users/boralim/Desktop/capstone/crawling_naver_iphone.csv', encoding='utf-8')\n",
    "#column name: description\n",
    "description = list(data.description)\n",
    "\n",
    "#데이터 샘플\n",
    "print(description[10])"
   ]
  },
  {
   "cell_type": "code",
   "execution_count": 89,
   "id": "017f1606",
   "metadata": {},
   "outputs": [],
   "source": [
    "#문서별 토픽 분포 보기\n",
    "def make_topictable_per_doc(ldamodel, corpus):\n",
    "    topic_table = pd.DataFrame()\n",
    "\n",
    "    # 몇 번째 문서인지를 의미하는 문서 번호와 해당 문서의 토픽 비중을 한 줄씩 꺼내온다.\n",
    "    for i, topic_list in enumerate(ldamodel[corpus]):\n",
    "        doc = topic_list[0] if ldamodel.per_word_topics else topic_list            \n",
    "        doc = sorted(doc, key=lambda x: (x[1]), reverse=True)\n",
    "        # 각 문서에 대해서 비중이 높은 토픽순으로 토픽을 정렬한다.\n",
    "\n",
    "        # 모든 문서에 대해서 각각 아래를 수행\n",
    "        for j, (topic_num, prop_topic) in enumerate(doc): #  몇 번 토픽인지와 비중을 나눠서 저장한다.\n",
    "            if j == 0:  # 정렬을 한 상태이므로 가장 앞에 있는 것이 가장 비중이 높은 토픽\n",
    "                topic_table = topic_table.append(pd.Series([int(topic_num), round(prop_topic,4), topic_list]), ignore_index=True)\n",
    "                # 가장 비중이 높은 토픽과, 가장 비중이 높은 토픽의 비중과, 전체 토픽의 비중을 저장한다.\n",
    "            else:\n",
    "                break\n",
    "    return(topic_table)"
   ]
  },
  {
   "cell_type": "code",
   "execution_count": 101,
   "id": "536e49ad",
   "metadata": {},
   "outputs": [],
   "source": [
    "topictable = make_topictable_per_doc(ldamodel, corpus)\n",
    "topictable = topictable.reset_index() # 문서 번호을 의미하는 열(column)로 사용하기 위해서 인덱스 열을 하나 더 만든다.\n",
    "topictable.columns = ['Document_No', 'Dominant_Topic', 'Dominant_Percent', 'All_Percent']"
   ]
  },
  {
   "cell_type": "code",
   "execution_count": 102,
   "id": "1c62b61e",
   "metadata": {},
   "outputs": [
    {
     "data": {
      "text/html": [
       "<div>\n",
       "<style scoped>\n",
       "    .dataframe tbody tr th:only-of-type {\n",
       "        vertical-align: middle;\n",
       "    }\n",
       "\n",
       "    .dataframe tbody tr th {\n",
       "        vertical-align: top;\n",
       "    }\n",
       "\n",
       "    .dataframe thead th {\n",
       "        text-align: right;\n",
       "    }\n",
       "</style>\n",
       "<table border=\"1\" class=\"dataframe\">\n",
       "  <thead>\n",
       "    <tr style=\"text-align: right;\">\n",
       "      <th></th>\n",
       "      <th>Document_No</th>\n",
       "      <th>Dominant_Topic</th>\n",
       "      <th>Dominant_Percent</th>\n",
       "      <th>All_Percent</th>\n",
       "    </tr>\n",
       "  </thead>\n",
       "  <tbody>\n",
       "    <tr>\n",
       "      <th>0</th>\n",
       "      <td>0</td>\n",
       "      <td>3.0</td>\n",
       "      <td>0.8611</td>\n",
       "      <td>[(0, 0.027783247), (1, 0.027780933), (2, 0.027...</td>\n",
       "    </tr>\n",
       "    <tr>\n",
       "      <th>1</th>\n",
       "      <td>1</td>\n",
       "      <td>3.0</td>\n",
       "      <td>0.9242</td>\n",
       "      <td>[(0, 0.015154712), (1, 0.0151545685), (2, 0.01...</td>\n",
       "    </tr>\n",
       "    <tr>\n",
       "      <th>2</th>\n",
       "      <td>2</td>\n",
       "      <td>2.0</td>\n",
       "      <td>0.6977</td>\n",
       "      <td>[(2, 0.6977114), (5, 0.26453882)]</td>\n",
       "    </tr>\n",
       "    <tr>\n",
       "      <th>3</th>\n",
       "      <td>3</td>\n",
       "      <td>2.0</td>\n",
       "      <td>0.8611</td>\n",
       "      <td>[(0, 0.027780022), (1, 0.02778278), (2, 0.8610...</td>\n",
       "    </tr>\n",
       "    <tr>\n",
       "      <th>4</th>\n",
       "      <td>4</td>\n",
       "      <td>3.0</td>\n",
       "      <td>0.8611</td>\n",
       "      <td>[(0, 0.027785325), (1, 0.027785938), (2, 0.027...</td>\n",
       "    </tr>\n",
       "    <tr>\n",
       "      <th>...</th>\n",
       "      <td>...</td>\n",
       "      <td>...</td>\n",
       "      <td>...</td>\n",
       "      <td>...</td>\n",
       "    </tr>\n",
       "    <tr>\n",
       "      <th>995</th>\n",
       "      <td>995</td>\n",
       "      <td>5.0</td>\n",
       "      <td>0.4748</td>\n",
       "      <td>[(0, 0.021742076), (1, 0.021741882), (2, 0.021...</td>\n",
       "    </tr>\n",
       "    <tr>\n",
       "      <th>996</th>\n",
       "      <td>996</td>\n",
       "      <td>3.0</td>\n",
       "      <td>0.7033</td>\n",
       "      <td>[(0, 0.22526002), (1, 0.017860893), (2, 0.0178...</td>\n",
       "    </tr>\n",
       "    <tr>\n",
       "      <th>997</th>\n",
       "      <td>997</td>\n",
       "      <td>2.0</td>\n",
       "      <td>0.9418</td>\n",
       "      <td>[(0, 0.011628897), (1, 0.011630584), (2, 0.941...</td>\n",
       "    </tr>\n",
       "    <tr>\n",
       "      <th>998</th>\n",
       "      <td>998</td>\n",
       "      <td>0.0</td>\n",
       "      <td>0.8913</td>\n",
       "      <td>[(0, 0.89128244), (1, 0.021744305), (2, 0.0217...</td>\n",
       "    </tr>\n",
       "    <tr>\n",
       "      <th>999</th>\n",
       "      <td>999</td>\n",
       "      <td>2.0</td>\n",
       "      <td>0.9107</td>\n",
       "      <td>[(0, 0.017858224), (1, 0.017859818), (2, 0.910...</td>\n",
       "    </tr>\n",
       "  </tbody>\n",
       "</table>\n",
       "<p>1000 rows × 4 columns</p>\n",
       "</div>"
      ],
      "text/plain": [
       "     Document_No  Dominant_Topic  Dominant_Percent  \\\n",
       "0              0             3.0            0.8611   \n",
       "1              1             3.0            0.9242   \n",
       "2              2             2.0            0.6977   \n",
       "3              3             2.0            0.8611   \n",
       "4              4             3.0            0.8611   \n",
       "..           ...             ...               ...   \n",
       "995          995             5.0            0.4748   \n",
       "996          996             3.0            0.7033   \n",
       "997          997             2.0            0.9418   \n",
       "998          998             0.0            0.8913   \n",
       "999          999             2.0            0.9107   \n",
       "\n",
       "                                           All_Percent  \n",
       "0    [(0, 0.027783247), (1, 0.027780933), (2, 0.027...  \n",
       "1    [(0, 0.015154712), (1, 0.0151545685), (2, 0.01...  \n",
       "2                    [(2, 0.6977114), (5, 0.26453882)]  \n",
       "3    [(0, 0.027780022), (1, 0.02778278), (2, 0.8610...  \n",
       "4    [(0, 0.027785325), (1, 0.027785938), (2, 0.027...  \n",
       "..                                                 ...  \n",
       "995  [(0, 0.021742076), (1, 0.021741882), (2, 0.021...  \n",
       "996  [(0, 0.22526002), (1, 0.017860893), (2, 0.0178...  \n",
       "997  [(0, 0.011628897), (1, 0.011630584), (2, 0.941...  \n",
       "998  [(0, 0.89128244), (1, 0.021744305), (2, 0.0217...  \n",
       "999  [(0, 0.017858224), (1, 0.017859818), (2, 0.910...  \n",
       "\n",
       "[1000 rows x 4 columns]"
      ]
     },
     "execution_count": 102,
     "metadata": {},
     "output_type": "execute_result"
    }
   ],
   "source": [
    "topictable"
   ]
  },
  {
   "cell_type": "code",
   "execution_count": 113,
   "id": "ceeba460",
   "metadata": {},
   "outputs": [],
   "source": [
    "#add original text to the end of the output\n",
    "topictable_original = pd.concat([topictable, data['description']], axis=1)"
   ]
  },
  {
   "cell_type": "code",
   "execution_count": 114,
   "id": "2fd029ec",
   "metadata": {},
   "outputs": [
    {
     "data": {
      "text/html": [
       "<div>\n",
       "<style scoped>\n",
       "    .dataframe tbody tr th:only-of-type {\n",
       "        vertical-align: middle;\n",
       "    }\n",
       "\n",
       "    .dataframe tbody tr th {\n",
       "        vertical-align: top;\n",
       "    }\n",
       "\n",
       "    .dataframe thead th {\n",
       "        text-align: right;\n",
       "    }\n",
       "</style>\n",
       "<table border=\"1\" class=\"dataframe\">\n",
       "  <thead>\n",
       "    <tr style=\"text-align: right;\">\n",
       "      <th></th>\n",
       "      <th>Document_No</th>\n",
       "      <th>Dominant_Topic</th>\n",
       "      <th>Dominant_Percent</th>\n",
       "      <th>All_Percent</th>\n",
       "      <th>description</th>\n",
       "    </tr>\n",
       "  </thead>\n",
       "  <tbody>\n",
       "    <tr>\n",
       "      <th>0</th>\n",
       "      <td>0</td>\n",
       "      <td>3.0</td>\n",
       "      <td>0.8611</td>\n",
       "      <td>[(0, 0.027783247), (1, 0.027780933), (2, 0.027...</td>\n",
       "      <td>애플의 첫 5G폰 iPhone 12 시리즈 중에서 &lt;b&gt;아이폰12&lt;/b&gt; PRO는 ...</td>\n",
       "    </tr>\n",
       "    <tr>\n",
       "      <th>1</th>\n",
       "      <td>1</td>\n",
       "      <td>3.0</td>\n",
       "      <td>0.9242</td>\n",
       "      <td>[(0, 0.015154712), (1, 0.0151545685), (2, 0.01...</td>\n",
       "      <td>iPhone 12 퍼플 리뷰 부제 : 내가 보려고 기록해 놓는 ••• 갑작스럽게 폰...</td>\n",
       "    </tr>\n",
       "    <tr>\n",
       "      <th>2</th>\n",
       "      <td>2</td>\n",
       "      <td>2.0</td>\n",
       "      <td>0.6977</td>\n",
       "      <td>[(2, 0.6977114), (5, 0.26453882)]</td>\n",
       "      <td>애플은 매년 9월 아이폰 신제품을 공개합니다. 작년의 경우 코로나 19로 인해 9월...</td>\n",
       "    </tr>\n",
       "    <tr>\n",
       "      <th>3</th>\n",
       "      <td>3</td>\n",
       "      <td>2.0</td>\n",
       "      <td>0.8611</td>\n",
       "      <td>[(0, 0.027780022), (1, 0.02778278), (2, 0.8610...</td>\n",
       "      <td>이런 관점에서 아이폰 11 Pro Max와 12Pro Max 두 모델의 스펙을 비교...</td>\n",
       "    </tr>\n",
       "    <tr>\n",
       "      <th>4</th>\n",
       "      <td>4</td>\n",
       "      <td>3.0</td>\n",
       "      <td>0.8611</td>\n",
       "      <td>[(0, 0.027785325), (1, 0.027785938), (2, 0.027...</td>\n",
       "      <td>얼른 시간이 가길 바라는 마음으로 &lt;b&gt;아이폰12&lt;/b&gt;를 구매하고자 하는 분들이 ...</td>\n",
       "    </tr>\n",
       "    <tr>\n",
       "      <th>...</th>\n",
       "      <td>...</td>\n",
       "      <td>...</td>\n",
       "      <td>...</td>\n",
       "      <td>...</td>\n",
       "      <td>...</td>\n",
       "    </tr>\n",
       "    <tr>\n",
       "      <th>995</th>\n",
       "      <td>995</td>\n",
       "      <td>5.0</td>\n",
       "      <td>0.4748</td>\n",
       "      <td>[(0, 0.021742076), (1, 0.021741882), (2, 0.021...</td>\n",
       "      <td>영상 속 &lt;b&gt;아이폰 12&lt;/b&gt; 부품들은 전작 아이폰 11과 외관만큼이나 완전히 ...</td>\n",
       "    </tr>\n",
       "    <tr>\n",
       "      <th>996</th>\n",
       "      <td>996</td>\n",
       "      <td>3.0</td>\n",
       "      <td>0.7033</td>\n",
       "      <td>[(0, 0.22526002), (1, 0.017860893), (2, 0.0178...</td>\n",
       "      <td>&lt;b&gt;아이폰 12&lt;/b&gt; pro의 그래파이트 색상은 사랑입니다 &amp;lt;3 아이폰 1...</td>\n",
       "    </tr>\n",
       "    <tr>\n",
       "      <th>997</th>\n",
       "      <td>997</td>\n",
       "      <td>2.0</td>\n",
       "      <td>0.9418</td>\n",
       "      <td>[(0, 0.011628897), (1, 0.011630584), (2, 0.941...</td>\n",
       "      <td>4형(대각선) 전면 화면 OLED 디스플레이 2340 x 1080 픽셀 해상도(47...</td>\n",
       "    </tr>\n",
       "    <tr>\n",
       "      <th>998</th>\n",
       "      <td>998</td>\n",
       "      <td>0.0</td>\n",
       "      <td>0.8913</td>\n",
       "      <td>[(0, 0.89128244), (1, 0.021744305), (2, 0.0217...</td>\n",
       "      <td>많지만 아이폰 자체만으로 너무 이뻐서 투명한게 좋겠다 싶어 선택하게 된 ESR&lt;b&gt;...</td>\n",
       "    </tr>\n",
       "    <tr>\n",
       "      <th>999</th>\n",
       "      <td>999</td>\n",
       "      <td>2.0</td>\n",
       "      <td>0.9107</td>\n",
       "      <td>[(0, 0.017858224), (1, 0.017859818), (2, 0.910...</td>\n",
       "      <td>( •́ ̯•̀ ) 3년쓴 아이폰X과 &lt;b&gt;아이폰12&lt;/b&gt;프로 비교 내 루믹스.....</td>\n",
       "    </tr>\n",
       "  </tbody>\n",
       "</table>\n",
       "<p>1000 rows × 5 columns</p>\n",
       "</div>"
      ],
      "text/plain": [
       "     Document_No  Dominant_Topic  Dominant_Percent  \\\n",
       "0              0             3.0            0.8611   \n",
       "1              1             3.0            0.9242   \n",
       "2              2             2.0            0.6977   \n",
       "3              3             2.0            0.8611   \n",
       "4              4             3.0            0.8611   \n",
       "..           ...             ...               ...   \n",
       "995          995             5.0            0.4748   \n",
       "996          996             3.0            0.7033   \n",
       "997          997             2.0            0.9418   \n",
       "998          998             0.0            0.8913   \n",
       "999          999             2.0            0.9107   \n",
       "\n",
       "                                           All_Percent  \\\n",
       "0    [(0, 0.027783247), (1, 0.027780933), (2, 0.027...   \n",
       "1    [(0, 0.015154712), (1, 0.0151545685), (2, 0.01...   \n",
       "2                    [(2, 0.6977114), (5, 0.26453882)]   \n",
       "3    [(0, 0.027780022), (1, 0.02778278), (2, 0.8610...   \n",
       "4    [(0, 0.027785325), (1, 0.027785938), (2, 0.027...   \n",
       "..                                                 ...   \n",
       "995  [(0, 0.021742076), (1, 0.021741882), (2, 0.021...   \n",
       "996  [(0, 0.22526002), (1, 0.017860893), (2, 0.0178...   \n",
       "997  [(0, 0.011628897), (1, 0.011630584), (2, 0.941...   \n",
       "998  [(0, 0.89128244), (1, 0.021744305), (2, 0.0217...   \n",
       "999  [(0, 0.017858224), (1, 0.017859818), (2, 0.910...   \n",
       "\n",
       "                                           description  \n",
       "0    애플의 첫 5G폰 iPhone 12 시리즈 중에서 <b>아이폰12</b> PRO는 ...  \n",
       "1    iPhone 12 퍼플 리뷰 부제 : 내가 보려고 기록해 놓는 ••• 갑작스럽게 폰...  \n",
       "2    애플은 매년 9월 아이폰 신제품을 공개합니다. 작년의 경우 코로나 19로 인해 9월...  \n",
       "3    이런 관점에서 아이폰 11 Pro Max와 12Pro Max 두 모델의 스펙을 비교...  \n",
       "4    얼른 시간이 가길 바라는 마음으로 <b>아이폰12</b>를 구매하고자 하는 분들이 ...  \n",
       "..                                                 ...  \n",
       "995  영상 속 <b>아이폰 12</b> 부품들은 전작 아이폰 11과 외관만큼이나 완전히 ...  \n",
       "996  <b>아이폰 12</b> pro의 그래파이트 색상은 사랑입니다 &lt;3 아이폰 1...  \n",
       "997  4형(대각선) 전면 화면 OLED 디스플레이 2340 x 1080 픽셀 해상도(47...  \n",
       "998  많지만 아이폰 자체만으로 너무 이뻐서 투명한게 좋겠다 싶어 선택하게 된 ESR<b>...  \n",
       "999  ( •́ ̯•̀ ) 3년쓴 아이폰X과 <b>아이폰12</b>프로 비교 내 루믹스.....  \n",
       "\n",
       "[1000 rows x 5 columns]"
      ]
     },
     "execution_count": 114,
     "metadata": {},
     "output_type": "execute_result"
    }
   ],
   "source": [
    "topictable_original"
   ]
  },
  {
   "cell_type": "code",
   "execution_count": 119,
   "id": "0e074703",
   "metadata": {},
   "outputs": [
    {
     "data": {
      "text/plain": [
       "Document_No           int64\n",
       "Dominant_Topic      float64\n",
       "Dominant_Percent    float64\n",
       "All_Percent          object\n",
       "description          object\n",
       "dtype: object"
      ]
     },
     "execution_count": 119,
     "metadata": {},
     "output_type": "execute_result"
    }
   ],
   "source": [
    "topictable_original.dtypes"
   ]
  },
  {
   "cell_type": "code",
   "execution_count": 121,
   "id": "66845d45",
   "metadata": {},
   "outputs": [],
   "source": [
    "pd.set_option('mode.chained_assignment',  None)"
   ]
  },
  {
   "cell_type": "code",
   "execution_count": 122,
   "id": "c0c0349b",
   "metadata": {},
   "outputs": [],
   "source": [
    "#토픽별 문장 분류해서 저장하기\n",
    "for i in range(0,6):\n",
    "    globals()['df_{}'.format(i)]=topictable_original.loc[topictable.Dominant_Topic==i]\n",
    "    globals()['df_{}'.format(i)].sort_values('Dominant_Percent',ascending=False,inplace = True)\n",
    "    globals()['df_{}'.format(i)].to_csv(\"./topic(\"+str(i)+\")_review.csv\", index = None)"
   ]
  },
  {
   "cell_type": "code",
   "execution_count": null,
   "id": "cc9fa342",
   "metadata": {},
   "outputs": [],
   "source": [
    "for i in range(0, 6):\n",
    "    data = pd.read_csv('/Users/boralim/Desktop/capstone/crawling_naver_iphone.csv', encoding='utf-8')"
   ]
  },
  {
   "cell_type": "code",
   "execution_count": 133,
   "id": "9f4ebe9a",
   "metadata": {},
   "outputs": [],
   "source": [
    "#토픽 별 불러와서 감성분석 실시해보기 \n",
    "topic1_data = list(pd.read_csv('/Users/boralim/Desktop/capstone/topic(0)_review.csv', encoding='utf-8').description)\n",
    "topic2_data = list(pd.read_csv('/Users/boralim/Desktop/capstone/topic(1)_review.csv', encoding='utf-8').description)\n",
    "topic3_data = list(pd.read_csv('/Users/boralim/Desktop/capstone/topic(2)_review.csv', encoding='utf-8').description)\n",
    "topic4_data = list(pd.read_csv('/Users/boralim/Desktop/capstone/topic(3)_review.csv', encoding='utf-8').description)\n",
    "topic5_data = list(pd.read_csv('/Users/boralim/Desktop/capstone/topic(4)_review.csv', encoding='utf-8').description)\n",
    "topic6_data = list(pd.read_csv('/Users/boralim/Desktop/capstone/topic(5)_review.csv', encoding='utf-8').description)"
   ]
  },
  {
   "cell_type": "code",
   "execution_count": 137,
   "id": "8da2eccc",
   "metadata": {},
   "outputs": [
    {
     "name": "stdout",
     "output_type": "stream",
     "text": [
      "number of sentence of topic 1:  192\n",
      "number of sentence of topic 2:  145\n",
      "number of sentence of topic 3:  150\n",
      "number of sentence of topic 4:  143\n",
      "number of sentence of topic 5:  205\n",
      "number of sentence of topic 6:  165\n"
     ]
    }
   ],
   "source": [
    "print(\"number of sentence of topic 1: \", len(topic1_data))\n",
    "print(\"number of sentence of topic 2: \", len(topic2_data))\n",
    "print(\"number of sentence of topic 3: \", len(topic3_data))\n",
    "print(\"number of sentence of topic 4: \", len(topic4_data))\n",
    "print(\"number of sentence of topic 5: \", len(topic5_data))\n",
    "print(\"number of sentence of topic 6: \", len(topic6_data))"
   ]
  },
  {
   "cell_type": "code",
   "execution_count": 138,
   "id": "90a447bb",
   "metadata": {},
   "outputs": [
    {
     "name": "stdout",
     "output_type": "stream",
     "text": [
      "['ngram', 'freq', 'COMP', 'NEG', 'NEUT', 'None', 'POS', 'max.value', 'max.prop']\n",
      "['가*/JKS', '1', '0', '0', '0', '0', '1', 'POS', '1']\n",
      "['가*/JKS;있/VV', '1', '0', '0', '0', '0', '1', 'POS', '1']\n",
      "['가*/JKS;있/VV;었/EP', '1', '0', '0', '0', '0', '1', 'POS', '1']\n",
      "['가*/VV', '3', '0', '0', '0', '0', '1', 'POS', '1']\n",
      "['가*/VV;ㄴ다*/EF', '1', '0', '0', '0', '0', '1', 'POS', '1']\n",
      "['가/JKC', '17', '0', '0.470588235', '0.235294118', '0', '0.294117647', 'NEG', '0.470588235']\n",
      "['가/JKC;되/VV', '11', '0', '0.363636364', '0.272727273', '0', '0.363636364', 'NEG', '0.363636364']\n",
      "['가/JKC;되/VV;ㄴ/ETM', '2', '0', '0', '1', '0', '0', 'NEUT', '1']\n",
      "['가/JKC;되/VV;ㄹ/ETM', '1', '0', '0', '1', '0', '0', 'NEUT', '1']\n"
     ]
    }
   ],
   "source": [
    "#감성사전 불러오기\n",
    "#우선 KOSAC(Korean Sentiment Analysis Corpus) 코드로 감성 분석 해본다.\n",
    "f = open(\"lexicon/polarity.csv\", encoding=\"utf-8\")\n",
    "for line in f.read().split(\"\\n\")[:10]:\n",
    "    line = line.strip().split(\",\")\n",
    "    print(line)\n",
    "f.close()"
   ]
  },
  {
   "cell_type": "code",
   "execution_count": 139,
   "id": "db344999",
   "metadata": {},
   "outputs": [],
   "source": [
    "#KOSAC 감성사전을 딕셔너리에 저장\n",
    "sentiment = {}\n",
    "\n",
    "f = open(\"lexicon/polarity.csv\", encoding=\"utf-8\")\n",
    "for line in f:\n",
    "    col = line.strip().split(\",\")\n",
    "    pos = col[0]\n",
    "    polarity = col[7]\n",
    "    score = col[8]\n",
    "    # 극성이 POS인 경우 +, NEG인 경우 -를 곱해 스코어(score)를 계산합니다.\n",
    "    if polarity == \"POS\":\n",
    "        score = float(score)\n",
    "    elif polarity == \"NEG\":\n",
    "        score = -float(score)\n",
    "    else:\n",
    "        # 긍정 또는 부정인 경우만 취급합니다.\n",
    "        continue\n",
    "    # 세미콜론(;)을 띄어쓰기로 바꿔 딕셔너리에 스코어와 함께 저장합니다.\n",
    "    sentiment[pos.replace(\";\", \" \")] = score\n",
    "\n",
    "f.close()\n",
    "\n",
    "# 생성한 감성사전 딕셔너리 샘플을 출력합니다.\n",
    "\n",
    "# 긍정\n",
    "#print(\"(긍정) 솜씨/NNG 는/JX 능숙/XR :\", sentiment[\"솜씨/NNG 는/JX 능숙/XR\"])\n",
    "#print(\"(긍정) 자연/NNG 스럽/XSA :\", sentiment[\"자연/NNG 스럽/XSA\"])\n",
    "# 부정\n",
    "#print(\"(부정) 에서/JKB 욕/NNG 튀어나오/VV :\", sentiment[\"에서/JKB 욕/NNG 튀어나오/VV\"])\n",
    "#print(\"(부정) 유달리/MAG 난해/XR :\", sentiment[\"유달리/MAG 난해/XR\"])"
   ]
  },
  {
   "cell_type": "code",
   "execution_count": 140,
   "id": "86d4f9a3",
   "metadata": {
    "scrolled": false
   },
   "outputs": [
    {
     "name": "stdout",
     "output_type": "stream",
     "text": [
      "[('영롱', 'XR'), ('하', 'XSA'), ('ㄴ', 'ETD'), ('<', 'SS'), ('b', 'OL'), ('>', 'SS'), ('아이', 'NNG'), ('폰', 'NNG'), ('12', 'NR'), ('<', 'SS'), ('/', 'SP'), ('b', 'OL'), ('>', 'SS'), ('프로', 'NNG'), ('그래파이트', 'NNG'), ('!', 'SF'), ('이번', 'NNG'), ('에', 'JKM'), ('도', 'JX'), ('아이', 'NNG'), ('폰', 'NNG'), ('x', 'OL'), ('와', 'JKM'), ('동일', 'NNG'), ('하', 'XSV'), ('ㄴ', 'ETD'), ('256', 'NR'), ('기가', 'NNG'), ('로', 'JKM'), ('선택', 'NNG'), ('하', 'XSV'), ('었', 'EPT'), ('어요', 'EFN'), ('.', 'SF'), ('카메라', 'NNG'), ('렌즈', 'NNG'), ('가', 'JKS'), ('하나', 'NR'), ('더', 'MAG'), ('늘', 'VV'), ('어서', 'ECD'), ('그렇', 'VA'), ('ㄴ지', 'ECD'), ('확실히', 'MAG'), ('사진', 'NNG'), (',', 'SP'), ('동영상', 'NNG'), ('이', 'JKS'), ('다르', 'VA'), ('더', 'EPT'), ('라고요', 'EFN'), ('.', 'SF'), ('그리하', 'VV'), ('여', 'ECD'), ('선지', 'NNG'), ('요즘', 'NNG'), ('사진', 'NNG'), ('찍', 'VV'), ('는', 'ETD'), ('재미', 'NNG'), ('가', 'JKS'), ('쏠쏠', 'XR'), ('하', 'XSA'), ('고요', 'EFN'), ('?', 'SF'), ('...', 'SE')]\n"
     ]
    }
   ],
   "source": [
    "#문장을 형태소 단위로 분리하기 샘플\n",
    "print(kkma.pos(topic1_data[10]))"
   ]
  },
  {
   "cell_type": "code",
   "execution_count": 153,
   "id": "f8d0c45d",
   "metadata": {},
   "outputs": [],
   "source": [
    "def sentimental_analysis(data_ls):\n",
    "    #형태소 분석\n",
    "    tag_data=[]\n",
    "\n",
    "    now = 0\n",
    "    for desc in data_ls:\n",
    "        now += 1\n",
    "        print(now, end=\"\\r\") #오.. 진행상황을 카운트다운처럼 프린트로 찍어주는 코드!\n",
    "        tag_list = kkma.pos(desc)\n",
    "        tag_desc = []\n",
    "        for word, pos in tag_list:\n",
    "            tag_desc.append(word + \"/\" + pos)\n",
    "        tag_data.append(tag_desc)\n",
    "    \n",
    "    # 감성분석 결과를 긍정과 부정 리뷰로 각각 저장할 리스트를 생성합니다.\n",
    "    positive_sentence = []\n",
    "    negative_sentence = []\n",
    "\n",
    "    for tag_sentence, review in zip(tag_data, data_ls):\n",
    "        # 스코어를 0점으로 초기화합니다.\n",
    "        score = 0.0\n",
    "        # 형태소분석된 문장 안에서 최대 7개까지 결합된 형태소가 감성사전 안에 있는지 확인합니다.\n",
    "        for i in range(len(tag_sentence)):\n",
    "            max_n = 7\n",
    "            for n in range(max_n):\n",
    "                ngram = \"\"\n",
    "                for j in range(len(tag_sentence)-n):\n",
    "                    ngram += \" \" + tag_sentence[j]\n",
    "                ngram = ngram.strip()\n",
    "                if ngram in sentiment.keys():\n",
    "                    score += sentiment[ngram]\n",
    "        # 감성스코어로 긍정 또는 부정을 판단하기위한 임계값을 지정합니다.\n",
    "        limit = 0\n",
    "        if score > limit:\n",
    "            positive_sentence.append([\"POSITIVE\", str(review)])\n",
    "        elif score < -limit:\n",
    "            negative_sentence.append([\"NEGATIVE\", str(review)])\n",
    "\n",
    "    # 감성분석 결과를 감성스코어를 기준으로 정렬합니다.\n",
    "    positive_sentence.sort(reverse=True)\n",
    "    negative_sentence.sort()\n",
    "    \n",
    "    print(\"긍정판별 문장 개수 :\", len(positive_sentence))\n",
    "    positive_sentence[:10]\n",
    "    print(\"부정판별 문장 개수 :\", len(negative_sentence))\n",
    "    negative_sentence[:10]\n",
    "    print(\"\\r\")"
   ]
  },
  {
   "cell_type": "code",
   "execution_count": 154,
   "id": "da0d3d8f",
   "metadata": {},
   "outputs": [
    {
     "name": "stdout",
     "output_type": "stream",
     "text": [
      "1 번째 토픽 감성분석 결과: \n",
      "긍정판별 문장 개수 : 0\n",
      "부정판별 문장 개수 : 0\n",
      "\n",
      "2 번째 토픽 감성분석 결과: \n",
      "긍정판별 문장 개수 : 0\n",
      "부정판별 문장 개수 : 0\n",
      "\n",
      "3 번째 토픽 감성분석 결과: \n",
      "긍정판별 문장 개수 : 0\n",
      "부정판별 문장 개수 : 0\n",
      "\n",
      "4 번째 토픽 감성분석 결과: \n",
      "긍정판별 문장 개수 : 0\n",
      "부정판별 문장 개수 : 0\n",
      "\n",
      "5 번째 토픽 감성분석 결과: \n",
      "긍정판별 문장 개수 : 0\n",
      "부정판별 문장 개수 : 0\n",
      "\n",
      "6 번째 토픽 감성분석 결과: \n",
      "긍정판별 문장 개수 : 0\n",
      "부정판별 문장 개수 : 0\n",
      "\n"
     ]
    }
   ],
   "source": [
    "i=1\n",
    "for data_ls in [topic1_data, topic2_data, topic3_data, topic4_data, topic5_data, topic6_data]:\n",
    "    print(i, \"번째 토픽 감성분석 결과: \")\n",
    "    sentimental_analysis(data_ls)\n",
    "    i=i+1"
   ]
  }
 ],
 "metadata": {
  "kernelspec": {
   "display_name": "Python 3",
   "language": "python",
   "name": "python3"
  },
  "language_info": {
   "codemirror_mode": {
    "name": "ipython",
    "version": 3
   },
   "file_extension": ".py",
   "mimetype": "text/x-python",
   "name": "python",
   "nbconvert_exporter": "python",
   "pygments_lexer": "ipython3",
   "version": "3.8.8"
  }
 },
 "nbformat": 4,
 "nbformat_minor": 5
}
