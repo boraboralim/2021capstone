{
 "cells": [
  {
   "cell_type": "code",
   "execution_count": 4,
   "id": "nearby-pathology",
   "metadata": {},
   "outputs": [],
   "source": [
    "import requests\n",
    "from urllib.parse import quote\n",
    " \n",
    "def call(keyword, start):\n",
    "    encText = quote(keyword)\n",
    "    url = \"https://openapi.naver.com/v1/search/blog?query=\"+encText+\"&sort=sim&display=100&start=\"+str(start)\n",
    "    result = requests.get(url=url, headers={\"X-Naver-Client-Id\":\"DPaawa4eJR8yjnu5TVSn\",\"X-Naver-Client-Secret\":\"9jn3LGtiVw\"})\n",
    "    print(result)  \n",
    "    return result.json()\n",
    " \n",
    "def results(keyword):\n",
    "    list = []\n",
    "    for num in range(0,10):\n",
    "        list = list + call(keyword, num * 110 + 1)['items'] \n",
    "    return list"
   ]
  },
  {
   "cell_type": "code",
   "execution_count": 6,
   "id": "flying-commander",
   "metadata": {},
   "outputs": [
    {
     "name": "stdout",
     "output_type": "stream",
     "text": [
      "<Response [200]>\n",
      "<Response [200]>\n",
      "<Response [200]>\n",
      "<Response [200]>\n",
      "<Response [200]>\n",
      "<Response [200]>\n",
      "<Response [200]>\n",
      "<Response [200]>\n",
      "<Response [200]>\n",
      "<Response [200]>\n"
     ]
    }
   ],
   "source": [
    "import json\n",
    "listt = []\n",
    "result = results('아이폰12')\n",
    "listt = listt+result\n",
    "file = open('iphone.json','w+')\n",
    "file.write(json.dumps(listt))\n",
    "import pandas as pd\n",
    "df = pd.read_json('iphone.json')\n",
    "df.to_csv('crawling_naver_iphone.csv',encoding='utf-8-sig',index=False)"
   ]
  }
 ],
 "metadata": {
  "kernelspec": {
   "display_name": "Python 3",
   "language": "python",
   "name": "python3"
  },
  "language_info": {
   "codemirror_mode": {
    "name": "ipython",
    "version": 3
   },
   "file_extension": ".py",
   "mimetype": "text/x-python",
   "name": "python",
   "nbconvert_exporter": "python",
   "pygments_lexer": "ipython3",
   "version": "3.8.8"
  }
 },
 "nbformat": 4,
 "nbformat_minor": 5
}
