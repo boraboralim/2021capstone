{
 "cells": [
  {
   "cell_type": "code",
   "execution_count": 125,
   "id": "endless-bangladesh",
   "metadata": {},
   "outputs": [],
   "source": [
    "import time\n",
    "import urllib.request \n",
    "import requests\n",
    "from urllib import parse #UnicodeEncodeError 해결\n",
    "from bs4 import BeautifulSoup \n",
    "import ssl \n",
    "import selenium\n",
    "from selenium import webdriver\n",
    "\n",
    "context = ssl._create_unverified_context() #url이 https일 때 생기는 오류를 해결해주는 코드\n",
    "#search = input(\"검색어를 입력하세요:\")\n",
    "search = \"아이폰12\"\n",
    "url = 'https://search.naver.com/search.naver?where=post&sm=tab_jum&query='\n",
    "url_nextpage = \"&sm=tab_pge&srchby=all&st=sim&where=post&start=\"\n",
    "postNum = 1\n",
    "\n",
    "url_list=[]\n",
    "title_list=[]\n",
    "\n",
    "for i in range(5): #number of pages\n",
    "    url = url+parse.quote_plus(search)+url_nextpage+str(postNum)\n",
    "    html = urllib.request.urlopen(url,context=context).read() \n",
    "    soup = BeautifulSoup(html,'html.parser')\n",
    "    titles = soup.find_all(class_='api_txt_lines total_tit')\n",
    "    for title in titles:\n",
    "        title_list.append(title.text)\n",
    "        url_list.append(title.attrs['href'])\n",
    "    postNum+=10"
   ]
  },
  {
   "cell_type": "code",
   "execution_count": 67,
   "id": "taken-sight",
   "metadata": {},
   "outputs": [],
   "source": [
    "import pandas as pd\n",
    "df=pd.DataFrame({'url':url_list, 'title':title_list})"
   ]
  },
  {
   "cell_type": "code",
   "execution_count": 68,
   "id": "norman-tuition",
   "metadata": {},
   "outputs": [
    {
     "data": {
      "text/html": [
       "<div>\n",
       "<style scoped>\n",
       "    .dataframe tbody tr th:only-of-type {\n",
       "        vertical-align: middle;\n",
       "    }\n",
       "\n",
       "    .dataframe tbody tr th {\n",
       "        vertical-align: top;\n",
       "    }\n",
       "\n",
       "    .dataframe thead th {\n",
       "        text-align: right;\n",
       "    }\n",
       "</style>\n",
       "<table border=\"1\" class=\"dataframe\">\n",
       "  <thead>\n",
       "    <tr style=\"text-align: right;\">\n",
       "      <th></th>\n",
       "      <th>url</th>\n",
       "      <th>title</th>\n",
       "    </tr>\n",
       "  </thead>\n",
       "  <tbody>\n",
       "    <tr>\n",
       "      <th>0</th>\n",
       "      <td>https://blog.naver.com/rewq2505?Redirect=Log&amp;l...</td>\n",
       "      <td>아이폰12 PRO 가격 할인받아 개통</td>\n",
       "    </tr>\n",
       "    <tr>\n",
       "      <th>1</th>\n",
       "      <td>https://blog.naver.com/bushcherry1?Redirect=Lo...</td>\n",
       "      <td>아이폰12 액정필름 아이엠듀 강화유리 풀커버라 좋아요!</td>\n",
       "    </tr>\n",
       "    <tr>\n",
       "      <th>2</th>\n",
       "      <td>https://blog.naver.com/bubble_cook?Redirect=Lo...</td>\n",
       "      <td>아이폰 11 Pro Max 12 가격 스펙 비교 지금 써도 괜찮을까?</td>\n",
       "    </tr>\n",
       "    <tr>\n",
       "      <th>3</th>\n",
       "      <td>https://blog.naver.com/tech-plus?Redirect=Log&amp;...</td>\n",
       "      <td>사진작가가 아이폰 12 Pro와 11 Pro 카메라 성능 비교해봤다?</td>\n",
       "    </tr>\n",
       "    <tr>\n",
       "      <th>4</th>\n",
       "      <td>https://blog.naver.com/clubkang?Redirect=Log&amp;l...</td>\n",
       "      <td>아이폰12 미니, 요즘 가격! 퍼플 색상은 언제?</td>\n",
       "    </tr>\n",
       "  </tbody>\n",
       "</table>\n",
       "</div>"
      ],
      "text/plain": [
       "                                                 url  \\\n",
       "0  https://blog.naver.com/rewq2505?Redirect=Log&l...   \n",
       "1  https://blog.naver.com/bushcherry1?Redirect=Lo...   \n",
       "2  https://blog.naver.com/bubble_cook?Redirect=Lo...   \n",
       "3  https://blog.naver.com/tech-plus?Redirect=Log&...   \n",
       "4  https://blog.naver.com/clubkang?Redirect=Log&l...   \n",
       "\n",
       "                                    title  \n",
       "0                    아이폰12 PRO 가격 할인받아 개통  \n",
       "1          아이폰12 액정필름 아이엠듀 강화유리 풀커버라 좋아요!  \n",
       "2  아이폰 11 Pro Max 12 가격 스펙 비교 지금 써도 괜찮을까?  \n",
       "3  사진작가가 아이폰 12 Pro와 11 Pro 카메라 성능 비교해봤다?  \n",
       "4             아이폰12 미니, 요즘 가격! 퍼플 색상은 언제?  "
      ]
     },
     "execution_count": 68,
     "metadata": {},
     "output_type": "execute_result"
    }
   ],
   "source": [
    "df.head()"
   ]
  },
  {
   "cell_type": "code",
   "execution_count": 154,
   "id": "white-thursday",
   "metadata": {},
   "outputs": [
    {
     "name": "stdout",
     "output_type": "stream",
     "text": [
      "https://blog.naver.com/bushcherry1?Redirect=Log&logNo=222221291137\n"
     ]
    }
   ],
   "source": [
    "url = df['url'][1]\n",
    "print(url)\n"
   ]
  },
  {
   "cell_type": "code",
   "execution_count": 160,
   "id": "democratic-council",
   "metadata": {},
   "outputs": [
    {
     "name": "stdout",
     "output_type": "stream",
     "text": [
      "상태코드: 200, 헤더: {'Date': 'Sun, 16 May 2021 17:10:14 GMT', 'Content-Type': 'text/html;charset=UTF-8', 'Transfer-Encoding': 'chunked', 'Connection': 'close', 'Vary': 'Accept-Encoding', 'Cache-Control': 'no-cache', 'Expires': 'Thu, 01 Jan 1970 00:00:00 GMT', 'Set-Cookie': 'JSESSIONID=B8108C13A96B0D7C6ABF267C531B8E6C.jvm1; Path=/; Secure; HttpOnly', 'Content-Encoding': 'gzip', 'Server': 'nxfps', 'Referrer-policy': 'unsafe-url'}\n",
      ", 몸통: <!DOCTYPE html PUBLIC \"-//W3C//DTD XHTML 1.0 Transitional//EN\" \"http://www.w3.org/TR/xhtml1/DTD/xhtml1-transitional.dtd\">\n",
      "<html lang=\"ko\">\n",
      "<head>\n",
      "<meta http-equiv=\"Pragma\" content=\"no-cache\"/>\n",
      "<meta http-equiv=\"Expires\" content=\"-1\"/>\n",
      "<meta name=\"robots\" content=\"noindex,follow\"/>\n",
      "<meta name=\"referrer\" content=\"always\"/>\n",
      "<meta http-equiv=\"content-type\" content=\"text/html;charset=UTF-8\"/>\n",
      "<meta http-equiv=\"X-UA-Compatible\" content=\"IE=edge,chrome=1\" />\n",
      "<link rel=\"shortcut icon\" type=\"image/x-icon\" href=\"/favicon.ico?3\" />\n",
      "<link rel=\"alternate\" type=\"application/rss+xml\" href=\"https://rss.blog.naver.com/bushcherry1.xml\" title=\"RSS feed for bushcherry1 Blog\"/>\n",
      "<link rel=\"wlwmanifest\" type=\"application/wlwmanifest+xml\" href=\"https://blog.naver.com/NBlogWlwLayout.nhn?blogId=bushcherry1\" />\n",
      "\n",
      "\n",
      "\n",
      "\n",
      "<title>유니스의 뷰티,패션,인테리어,플레이팅 공간 : 네이버 블로그</title>\n",
      "</head>\n",
      "<script type=\"text/javascript\" src=\"https://ssl.pstatic.net/t.static.blog/mylog/versioning/Frameset-657805386_https.js\" charset=\"UTF-8\"></script>\n",
      "\n",
      "<script type=\"text/javascript\" charset=\"UTF-8\">\n",
      "var photoContent=\"\";\n",
      "var postContent=\"\";\n",
      "\n",
      "var videoId \t  = \"\";\n",
      "var thumbnail \t  = \"\";\n",
      "var inKey \t\t  = \"\";\n",
      "var movieFileSize = \"\";\n",
      "var playTime \t  = \"\";\n",
      "var screenSize \t  = \"\";\n",
      "\n",
      "var blogId = 'bushcherry1';\n",
      "var blogURL = 'https://blog.naver.com';\n",
      "var eventCnt = '';\n",
      "\n",
      "var g_ShareObject = {};\n",
      "g_ShareObject.referer = \"\";\n",
      "\n",
      "\n",
      "jsMVC.setController(\"framesetTitleController\", FramesetTitleController);\n",
      "jsMVC.setController(\"framesetUrlController\", FramesetUrlController);\n",
      "jsMVC.setController(\"framesetMusicController\", FramesetMusicController);\n",
      "var oFramesetTitleController = jsMVC.getController(\"framesetTitleController\");\n",
      "var oFramesetUrlController = jsMVC.getController(\"framesetUrlController\");\n",
      "var oFramesetMusicController = jsMVC.getController(\"framesetMusicController\");\n",
      "var sTitle = document.title;\n",
      "\n",
      "</script>\n",
      "<style type=\"text/css\">\n",
      "    html{width:100%;height:100%;}\n",
      "    body{width:100%;height:100%;margin:0;padding:0;font-size:0;}\n",
      "    #mainFrame{width:100%;height:100%;margin:0;padding:0;border:0;}\n",
      "    #hiddenFrame{width:0;height:0;margin:0;padding:0;border:0;}\n",
      "</style>\n",
      "<body>\n",
      "    <iframe id=\"mainFrame\" name=\"mainFrame\" allowfullscreen=\"true\" src=\"/PostView.nhn?blogId=bushcherry1&logNo=222221291137&from=search&redirect=Log&widgetTypeCall=true&directAccess=false\" scrolling=\"auto\"  onload=\"oFramesetTitleController.start(self.frames['mainFrame'], self, sTitle);oFramesetTitleController.onLoadFrame();oFramesetUrlController.start(self.frames['mainFrame']);oFramesetUrlController.onLoadFrame()\" allowfullscreen></iframe>\n",
      "\n",
      "</body>\n",
      "</html>\n"
     ]
    }
   ],
   "source": [
    "res = requests.get(url)\n",
    "print(f'상태코드: {res.status_code}, 헤더: {res.headers}\\n, 몸통: {res.content.decode(\"utf-8\").strip()}')"
   ]
  },
  {
   "cell_type": "code",
   "execution_count": 157,
   "id": "reserved-adobe",
   "metadata": {},
   "outputs": [
    {
     "name": "stdout",
     "output_type": "stream",
     "text": [
      "/PostView.nhn?blogId=bushcherry1&logNo=222221291137&from=search&redirect=Log&widgetTypeCall=true&directAccess=falsehttps://section.blog.naver.com/BlogHome.nhn\n"
     ]
    }
   ],
   "source": [
    "html = BeautifulSoup(res.content, 'html.parser')\n",
    "target_URL = html.find('iframe').get('src')\n",
    "target_URL = target_URL + 'https://section.blog.naver.com/BlogHome.nhn'\n",
    "print(target_URL)\n",
    "target_URL = url+\"?proxyReferer=https://section.blog.naver.com/BlogHome.nhn\""
   ]
  },
  {
   "cell_type": "code",
   "execution_count": 158,
   "id": "lucky-stupid",
   "metadata": {},
   "outputs": [],
   "source": [
    "res = requests.get(target_URL)\n",
    "html = BeautifulSoup(res.content, 'html.parser')"
   ]
  },
  {
   "cell_type": "code",
   "execution_count": 159,
   "id": "further-delivery",
   "metadata": {},
   "outputs": [
    {
     "name": "stdout",
     "output_type": "stream",
     "text": [
      "\n",
      "<!DOCTYPE html PUBLIC \"-//W3C//DTD XHTML 1.0 Transitional//EN\" \"http://www.w3.org/TR/xhtml1/DTD/xhtml1-transitional.dtd\">\n",
      "\n",
      "<html lang=\"ko\">\n",
      "<head>\n",
      "<meta content=\"no-cache\" http-equiv=\"Pragma\"/>\n",
      "<meta content=\"-1\" http-equiv=\"Expires\"/>\n",
      "<meta content=\"noindex,follow\" name=\"robots\"/>\n",
      "<meta content=\"always\" name=\"referrer\"/>\n",
      "<meta content=\"text/html;charset=utf-8\" http-equiv=\"content-type\"/>\n",
      "<meta content=\"IE=edge,chrome=1\" http-equiv=\"X-UA-Compatible\"/>\n",
      "<link href=\"/favicon.ico?3\" rel=\"shortcut icon\" type=\"image/x-icon\"/>\n",
      "<link href=\"https://rss.blog.naver.com/bushcherry1.xml\" rel=\"alternate\" title=\"RSS feed for bushcherry1 Blog\" type=\"application/rss+xml\"/>\n",
      "<link href=\"https://blog.naver.com/NBlogWlwLayout.nhn?blogId=bushcherry1\" rel=\"wlwmanifest\" type=\"application/wlwmanifest+xml\"/>\n",
      "<title>유니스의 뷰티,패션,인테리어,플레이팅 공간 : 네이버 블로그</title>\n",
      "</head>\n",
      "<script charset=\"UTF-8\" src=\"https://ssl.pstatic.net/t.static.blog/mylog/versioning/Frameset-657805386_https.js\" type=\"text/javascript\"></script>\n",
      "<script charset=\"UTF-8\" type=\"text/javascript\">\n",
      "var photoContent=\"\";\n",
      "var postContent=\"\";\n",
      "\n",
      "var videoId \t  = \"\";\n",
      "var thumbnail \t  = \"\";\n",
      "var inKey \t\t  = \"\";\n",
      "var movieFileSize = \"\";\n",
      "var playTime \t  = \"\";\n",
      "var screenSize \t  = \"\";\n",
      "\n",
      "var blogId = 'bushcherry1';\n",
      "var blogURL = 'https://blog.naver.com';\n",
      "var eventCnt = '';\n",
      "\n",
      "var g_ShareObject = {};\n",
      "g_ShareObject.referer = \"\";\n",
      "\n",
      "\n",
      "jsMVC.setController(\"framesetTitleController\", FramesetTitleController);\n",
      "jsMVC.setController(\"framesetUrlController\", FramesetUrlController);\n",
      "jsMVC.setController(\"framesetMusicController\", FramesetMusicController);\n",
      "var oFramesetTitleController = jsMVC.getController(\"framesetTitleController\");\n",
      "var oFramesetUrlController = jsMVC.getController(\"framesetUrlController\");\n",
      "var oFramesetMusicController = jsMVC.getController(\"framesetMusicController\");\n",
      "var sTitle = document.title;\n",
      "\n",
      "</script>\n",
      "<style type=\"text/css\">\n",
      "    html{width:100%;height:100%;}\n",
      "    body{width:100%;height:100%;margin:0;padding:0;font-size:0;}\n",
      "    #mainFrame{width:100%;height:100%;margin:0;padding:0;border:0;}\n",
      "    #hiddenFrame{width:0;height:0;margin:0;padding:0;border:0;}\n",
      "</style>\n",
      "<body>\n",
      "<iframe allowfullscreen=\"\" id=\"mainFrame\" name=\"mainFrame\" onload=\"oFramesetTitleController.start(self.frames['mainFrame'], self, sTitle);oFramesetTitleController.onLoadFrame();oFramesetUrlController.start(self.frames['mainFrame']);oFramesetUrlController.onLoadFrame()\" scrolling=\"auto\" src=\"/PostView.nhn?blogId=bushcherry1&amp;logNo=222221291137?proxyReferer=https://section.blog.naver.com/BlogHome.nhn&amp;from=search&amp;redirect=Log&amp;widgetTypeCall=true&amp;directAccess=false\"></iframe>\n",
      "</body>\n",
      "</html>\n"
     ]
    }
   ],
   "source": [
    "print(html)"
   ]
  },
  {
   "cell_type": "code",
   "execution_count": 147,
   "id": "massive-drawing",
   "metadata": {},
   "outputs": [
    {
     "ename": "AttributeError",
     "evalue": "'NoneType' object has no attribute 'get_text'",
     "output_type": "error",
     "traceback": [
      "\u001b[0;31m---------------------------------------------------------------------------\u001b[0m",
      "\u001b[0;31mAttributeError\u001b[0m                            Traceback (most recent call last)",
      "\u001b[0;32m<ipython-input-147-1a7883080ce6>\u001b[0m in \u001b[0;36m<module>\u001b[0;34m\u001b[0m\n\u001b[0;32m----> 1\u001b[0;31m \u001b[0mtext\u001b[0m \u001b[0;34m=\u001b[0m \u001b[0mhtml\u001b[0m\u001b[0;34m.\u001b[0m\u001b[0mfind\u001b[0m\u001b[0;34m(\u001b[0m\u001b[0;34m'div'\u001b[0m\u001b[0;34m,\u001b[0m \u001b[0;34m{\u001b[0m\u001b[0;34m'class'\u001b[0m\u001b[0;34m:\u001b[0m\u001b[0;34m'se-main-container'\u001b[0m\u001b[0;34m}\u001b[0m\u001b[0;34m)\u001b[0m\u001b[0;34m.\u001b[0m\u001b[0mget_text\u001b[0m\u001b[0;34m(\u001b[0m\u001b[0;34m)\u001b[0m\u001b[0;34m\u001b[0m\u001b[0;34m\u001b[0m\u001b[0m\n\u001b[0m\u001b[1;32m      2\u001b[0m \u001b[0mre\u001b[0m\u001b[0;34m.\u001b[0m\u001b[0mcompile\u001b[0m\u001b[0;34m(\u001b[0m\u001b[0;34m'[^가-힣0-9ㄱ-ㅎㅏ-ㅣ^]+'\u001b[0m\u001b[0;34m)\u001b[0m\u001b[0;34m.\u001b[0m\u001b[0msub\u001b[0m\u001b[0;34m(\u001b[0m\u001b[0;34m' '\u001b[0m\u001b[0;34m,\u001b[0m \u001b[0mtext\u001b[0m\u001b[0;34m)\u001b[0m\u001b[0;34m.\u001b[0m\u001b[0mstrip\u001b[0m\u001b[0;34m(\u001b[0m\u001b[0;34m)\u001b[0m\u001b[0;34m\u001b[0m\u001b[0;34m\u001b[0m\u001b[0m\n\u001b[1;32m      3\u001b[0m \u001b[0;34m\u001b[0m\u001b[0m\n\u001b[1;32m      4\u001b[0m \u001b[0mblog\u001b[0m \u001b[0;34m=\u001b[0m \u001b[0mpd\u001b[0m\u001b[0;34m.\u001b[0m\u001b[0mDataFrame\u001b[0m\u001b[0;34m(\u001b[0m\u001b[0mcolumns\u001b[0m \u001b[0;34m=\u001b[0m \u001b[0;34m[\u001b[0m\u001b[0;34m'head'\u001b[0m\u001b[0;34m,\u001b[0m \u001b[0;34m'user'\u001b[0m\u001b[0;34m,\u001b[0m \u001b[0;34m'date'\u001b[0m\u001b[0;34m,\u001b[0m \u001b[0;34m'text'\u001b[0m\u001b[0;34m]\u001b[0m\u001b[0;34m)\u001b[0m\u001b[0;34m\u001b[0m\u001b[0;34m\u001b[0m\u001b[0m\n\u001b[1;32m      5\u001b[0m \u001b[0mblog\u001b[0m \u001b[0;34m=\u001b[0m \u001b[0mblog\u001b[0m\u001b[0;34m.\u001b[0m\u001b[0mappend\u001b[0m\u001b[0;34m(\u001b[0m\u001b[0;34m{\u001b[0m\u001b[0;34m'text'\u001b[0m\u001b[0;34m:\u001b[0m\u001b[0mre\u001b[0m\u001b[0;34m.\u001b[0m\u001b[0mcompile\u001b[0m\u001b[0;34m(\u001b[0m\u001b[0;34m'\\W+'\u001b[0m\u001b[0;34m)\u001b[0m\u001b[0;34m.\u001b[0m\u001b[0msub\u001b[0m\u001b[0;34m(\u001b[0m\u001b[0;34m' '\u001b[0m\u001b[0;34m,\u001b[0m \u001b[0mtext\u001b[0m\u001b[0;34m)\u001b[0m\u001b[0;34m.\u001b[0m\u001b[0mstrip\u001b[0m\u001b[0;34m(\u001b[0m\u001b[0;34m)\u001b[0m\u001b[0;34m}\u001b[0m\u001b[0;34m)\u001b[0m\u001b[0;34m\u001b[0m\u001b[0;34m\u001b[0m\u001b[0m\n",
      "\u001b[0;31mAttributeError\u001b[0m: 'NoneType' object has no attribute 'get_text'"
     ]
    }
   ],
   "source": [
    "text = html.find('div', {'class':'se-main-container'}).get_text()\n",
    "re.compile('[^가-힣0-9ㄱ-ㅎㅏ-ㅣ^]+').sub(' ', text).strip()\n",
    "\n",
    "blog = pd.DataFrame(columns = ['head', 'user', 'date', 'text'])\n",
    "blog = blog.append({'text':re.compile('\\W+').sub(' ', text).strip()})"
   ]
  },
  {
   "cell_type": "code",
   "execution_count": 87,
   "id": "brazilian-answer",
   "metadata": {},
   "outputs": [
    {
     "name": "stdout",
     "output_type": "stream",
     "text": [
      "\n",
      "2021. 5. 13. 18:34\n",
      "아이폰12 액정필름 아이엠듀 강화유리 풀커버라 좋아요!\n",
      "2021. 1. 27. 8:10\n",
      "11 vs 12\n",
      "2021. 5. 13. 15:46\n"
     ]
    }
   ],
   "source": [
    "data={}\n",
    "\n",
    "number = 3 #수집할 글의 갯수\n",
    "for i in range(0, number):\n",
    "    url = df['url'][i]\n",
    "    driver = webdriver.Chrome(r\"/Users/boralim/Desktop/capstone/chromedriver\")\n",
    "    driver.get(url)\n",
    "    \n",
    "    try:\n",
    "        driver.switch_to.frame('mainFrame')\n",
    "        target_info = {}\n",
    "        \n",
    "        #title\n",
    "        overlays = \".se-fs-.se-ff-\"\n",
    "        tit = driver.find_element_by_css_selector(overlays)\n",
    "        title = tit.text\n",
    "        print(title)\n",
    "        \n",
    "        #date\n",
    "        overlays = \".se_publishDate.pcol2\"\n",
    "        date = driver.find_element_by_css_selector(overlays)\n",
    "        datetime = date.text\n",
    "        print(datetime)\n",
    "        \n",
    "        #contents\n",
    "        overlays = \".se-component .se-text .se-l-default\"\n",
    "        contents = driver.find_element_by_css_selector(overlays)\n",
    "        print(ccontents)\n",
    "        \n",
    "        content_list=[]\n",
    "        for content in contents:\n",
    "            content_list.append(content.text)\n",
    "        content_str = ' '.join(content_list)\n",
    "        \n",
    "        target_info['title'] = title\n",
    "        target_info['datetime'] = datetime\n",
    "        target_info['contents'] = content_str\n",
    "        \n",
    "        data[i] = target_info\n",
    "        time.sleep(1)\n",
    "        \n",
    "        print(i, title)\n",
    "        \n",
    "        driver.close()\n",
    "        \n",
    "    except:\n",
    "        driver.close()\n",
    "        time.sleep(1)\n",
    "        continue"
   ]
  },
  {
   "cell_type": "code",
   "execution_count": 88,
   "id": "injured-television",
   "metadata": {},
   "outputs": [
    {
     "data": {
      "text/plain": [
       "{}"
      ]
     },
     "execution_count": 88,
     "metadata": {},
     "output_type": "execute_result"
    }
   ],
   "source": [
    "data"
   ]
  },
  {
   "cell_type": "code",
   "execution_count": null,
   "id": "abandoned-harbor",
   "metadata": {},
   "outputs": [],
   "source": []
  }
 ],
 "metadata": {
  "kernelspec": {
   "display_name": "Python 3",
   "language": "python",
   "name": "python3"
  },
  "language_info": {
   "codemirror_mode": {
    "name": "ipython",
    "version": 3
   },
   "file_extension": ".py",
   "mimetype": "text/x-python",
   "name": "python",
   "nbconvert_exporter": "python",
   "pygments_lexer": "ipython3",
   "version": "3.8.8"
  }
 },
 "nbformat": 4,
 "nbformat_minor": 5
}
